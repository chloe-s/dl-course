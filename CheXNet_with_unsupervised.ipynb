{
 "cells": [
  {
   "cell_type": "markdown",
   "metadata": {},
   "source": [
    "## Pneumonia Detection on Chest X-Rays with Deep Learning\n",
    "\n",
    "The dataset comes from this [paper](https://arxiv.org/pdf/1711.05225.pdf)\n",
    "\n",
    "Also, implementing this [paper] (https://arxiv.org/pdf/1610.02391.pdf)"
   ]
  },
  {
   "cell_type": "code",
   "execution_count": 1,
   "metadata": {},
   "outputs": [],
   "source": [
    "%reload_ext autoreload\n",
    "%autoreload 2\n",
    "%matplotlib inline\n",
    "import matplotlib.pyplot as plt\n",
    "\n",
    "import numpy as np\n",
    "import pandas as pd\n",
    "\n",
    "from pathlib import Path\n",
    "from sklearn import metrics\n",
    "import random\n",
    "\n",
    "import torch\n",
    "from torch.utils.data import Dataset, DataLoader\n",
    "import torch.optim as optim\n",
    "import torch.nn as nn\n",
    "import torch.nn.functional as F\n",
    "from torchvision import models\n",
    "\n",
    "from datetime import datetime\n",
    "import cv2\n",
    "from collections import OrderedDict"
   ]
  },
  {
   "cell_type": "code",
   "execution_count": 2,
   "metadata": {},
   "outputs": [],
   "source": [
    "import os\n",
    "from tqdm import tqdm_notebook as tqdm"
   ]
  },
  {
   "cell_type": "code",
   "execution_count": 3,
   "metadata": {},
   "outputs": [
    {
     "data": {
      "text/plain": [
       "[PosixPath('/data2/yinterian/ChestXray/images'),\n",
       " PosixPath('/data2/yinterian/ChestXray/val_df.csv'),\n",
       " PosixPath('/data2/yinterian/ChestXray/images_250'),\n",
       " PosixPath('/data2/yinterian/ChestXray/test_df.csv'),\n",
       " PosixPath('/data2/yinterian/ChestXray/images_010.zip'),\n",
       " PosixPath('/data2/yinterian/ChestXray/images_001.zip'),\n",
       " PosixPath('/data2/yinterian/ChestXray/README_CHESTXRAY.pdf'),\n",
       " PosixPath('/data2/yinterian/ChestXray/test_list.txt'),\n",
       " PosixPath('/data2/yinterian/ChestXray/ARXIV_V5_CHESTXRAY.pdf'),\n",
       " PosixPath('/data2/yinterian/ChestXray/images_011.zip'),\n",
       " PosixPath('/data2/yinterian/ChestXray/images_004.zip'),\n",
       " PosixPath('/data2/yinterian/ChestXray/BBox_List_2017.csv'),\n",
       " PosixPath('/data2/yinterian/ChestXray/images_007.zip'),\n",
       " PosixPath('/data2/yinterian/ChestXray/Data_Entry_2017.csv'),\n",
       " PosixPath('/data2/yinterian/ChestXray/images_002.zip'),\n",
       " PosixPath('/data2/yinterian/ChestXray/images_008.zip'),\n",
       " PosixPath('/data2/yinterian/ChestXray/val_Pneumonia_df.csv'),\n",
       " PosixPath('/data2/yinterian/ChestXray/LOG_CHESTXRAY.pdf'),\n",
       " PosixPath('/data2/yinterian/ChestXray/train_val_list.txt'),\n",
       " PosixPath('/data2/yinterian/ChestXray/mode_tmp.pth'),\n",
       " PosixPath('/data2/yinterian/ChestXray/images_005.zip'),\n",
       " PosixPath('/data2/yinterian/ChestXray/models'),\n",
       " PosixPath('/data2/yinterian/ChestXray/gradcam'),\n",
       " PosixPath('/data2/yinterian/ChestXray/train_Pneumonia_df.csv'),\n",
       " PosixPath('/data2/yinterian/ChestXray/valid_df.csv'),\n",
       " PosixPath('/data2/yinterian/ChestXray/images_003.zip'),\n",
       " PosixPath('/data2/yinterian/ChestXray/images_012.zip'),\n",
       " PosixPath('/data2/yinterian/ChestXray/FAQ_CHESTXRAY.pdf'),\n",
       " PosixPath('/data2/yinterian/ChestXray/images_009.zip'),\n",
       " PosixPath('/data2/yinterian/ChestXray/test_Pneumonia_df.csv'),\n",
       " PosixPath('/data2/yinterian/ChestXray/logs'),\n",
       " PosixPath('/data2/yinterian/ChestXray/images_006.zip'),\n",
       " PosixPath('/data2/yinterian/ChestXray/train_df.csv')]"
      ]
     },
     "execution_count": 3,
     "metadata": {},
     "output_type": "execute_result"
    }
   ],
   "source": [
    "PATH = Path(\"/data2/yinterian/ChestXray/\")\n",
    "list(PATH.iterdir())"
   ]
  },
  {
   "cell_type": "markdown",
   "metadata": {},
   "source": [
    "## Preprocessing "
   ]
  },
  {
   "cell_type": "code",
   "execution_count": 4,
   "metadata": {},
   "outputs": [],
   "source": [
    "def read_image(path):\n",
    "    im = cv2.imread(str(path))\n",
    "    return cv2.cvtColor(im, cv2.COLOR_BGR2RGB)"
   ]
  },
  {
   "cell_type": "code",
   "execution_count": 5,
   "metadata": {},
   "outputs": [],
   "source": [
    "images_paths = list((PATH/\"images\").iterdir())"
   ]
  },
  {
   "cell_type": "code",
   "execution_count": 6,
   "metadata": {},
   "outputs": [
    {
     "data": {
      "text/plain": [
       "[PosixPath('/data2/yinterian/ChestXray/images/00021341_016.png'),\n",
       " PosixPath('/data2/yinterian/ChestXray/images/00011460_012.png'),\n",
       " PosixPath('/data2/yinterian/ChestXray/images/00005311_000.png'),\n",
       " PosixPath('/data2/yinterian/ChestXray/images/00021120_000.png'),\n",
       " PosixPath('/data2/yinterian/ChestXray/images/00029431_003.png'),\n",
       " PosixPath('/data2/yinterian/ChestXray/images/00027564_002.png'),\n",
       " PosixPath('/data2/yinterian/ChestXray/images/00006271_096.png'),\n",
       " PosixPath('/data2/yinterian/ChestXray/images/00004461_014.png'),\n",
       " PosixPath('/data2/yinterian/ChestXray/images/00020917_000.png'),\n",
       " PosixPath('/data2/yinterian/ChestXray/images/00012402_000.png')]"
      ]
     },
     "execution_count": 6,
     "metadata": {},
     "output_type": "execute_result"
    }
   ],
   "source": [
    "images_paths[:10]"
   ]
  },
  {
   "cell_type": "markdown",
   "metadata": {},
   "source": [
    "## Random transforms"
   ]
  },
  {
   "cell_type": "code",
   "execution_count": 7,
   "metadata": {},
   "outputs": [],
   "source": [
    "def crop(im, r, c, target_r, target_c): return im[r:r+target_r, c:c+target_c]\n",
    "\n",
    "def random_crop(x):\n",
    "    \"\"\" Returns a random crop\"\"\"\n",
    "    r, c,*_ = x.shape\n",
    "    r, c,*_ = x.shape\n",
    "    r_pix = 8\n",
    "    c_pix = round(r_pix*c/r)\n",
    "    rand_r = random.uniform(0, 1)\n",
    "    rand_c = random.uniform(0, 1)\n",
    "    start_r = np.floor(2*rand_r*r_pix).astype(int)\n",
    "    start_c = np.floor(2*rand_c*c_pix).astype(int)\n",
    "    return crop(x, start_r, start_c, r-2*r_pix, c-2*c_pix)\n",
    "\n",
    "def center_crop(x):\n",
    "    r, c,*_ = x.shape\n",
    "    r_pix = 8\n",
    "    c_pix = round(r_pix*c/r)\n",
    "    return crop(x, r_pix, c_pix, r-2*r_pix, c-2*c_pix)\n",
    "\n",
    "\n",
    "def rotate_cv(im, deg, mode=cv2.BORDER_REFLECT, interpolation=cv2.INTER_AREA):\n",
    "    \"\"\" Rotates an image by deg degrees\"\"\"\n",
    "    r,c,*_ = im.shape\n",
    "    M = cv2.getRotationMatrix2D((c/2,r/2),deg,1)\n",
    "    return cv2.warpAffine(im,M,(c,r), borderMode=mode, \n",
    "                          flags=cv2.WARP_FILL_OUTLIERS+interpolation)"
   ]
  },
  {
   "cell_type": "markdown",
   "metadata": {},
   "source": [
    "## Dataset"
   ]
  },
  {
   "cell_type": "code",
   "execution_count": 8,
   "metadata": {},
   "outputs": [],
   "source": [
    "def norm_for_imageNet(img):\n",
    "    imagenet_stats = np.array([[0.485, 0.456, 0.406], [0.229, 0.224, 0.225]])\n",
    "    return (img - imagenet_stats[0])/imagenet_stats[1]"
   ]
  },
  {
   "cell_type": "code",
   "execution_count": 9,
   "metadata": {},
   "outputs": [],
   "source": [
    "def apply_transforms(x):\n",
    "    \"\"\" Applies a random crop, rotation\"\"\"\n",
    "    rdeg = (np.random.random()-.50)*20\n",
    "    x = rotate_cv(x, rdeg)\n",
    "    if np.random.random() > 0.5: x = np.fliplr(x).copy() \n",
    "    x = random_crop(x)\n",
    "    return x\n",
    "\n",
    "class ChestXrayDataSet(Dataset):\n",
    "    def __init__(self, df, transform=None):\n",
    "        \"\"\"\n",
    "        Args:\n",
    "            dataframe with data: image_file, label\n",
    "            transform: if True apply transforms to images\n",
    "        \"\"\"\n",
    "        self.image_files = df[\"ImageIndex\"].values\n",
    "        self.labels = df[\"Label\"].values\n",
    "        self.transform = transform\n",
    "        self.image_path = PATH/\"images_250\"\n",
    "\n",
    "    def __getitem__(self, index):\n",
    "        path = self.image_path/self.image_files[index]\n",
    "        x = cv2.imread(str(path)).astype(np.float32)\n",
    "        x = cv2.cvtColor(x, cv2.COLOR_BGR2RGB)/255\n",
    "        if self.transform:\n",
    "            x = apply_transforms(x)\n",
    "        else:\n",
    "            x = center_crop(x)\n",
    "            \n",
    "        x = norm_for_imageNet(x)\n",
    "        y = np.array([int(i) for i in self.labels[index].split(\" \")]).astype(np.float32)\n",
    "        return np.rollaxis(x, 2), y\n",
    "\n",
    "    def __len__(self):\n",
    "        return len(self.image_files)"
   ]
  },
  {
   "cell_type": "code",
   "execution_count": 10,
   "metadata": {},
   "outputs": [],
   "source": [
    "class ChestXrayDataSetUnsupervised(Dataset):\n",
    "    def __init__(self, df, N):\n",
    "        \"\"\"\n",
    "        Args:\n",
    "            dataframe with data: image_file, label\n",
    "            transform: if True apply transforms to images\n",
    "        \"\"\"\n",
    "        paths = np.array([PATH/\"images_250\"/x for x in df[\"ImageIndex\"].values])\n",
    "        replace = False\n",
    "        if N > len(paths): replace = True\n",
    "        self.paths = np.random.choice(paths, size=N, replace=replace)\n",
    "        self.len = N \n",
    "\n",
    "    def __getitem__(self, index):\n",
    "        path = self.paths[index]\n",
    "        x = cv2.imread(str(path)).astype(np.float32)\n",
    "        x = cv2.cvtColor(x, cv2.COLOR_BGR2RGB)/255\n",
    "        x_trans = apply_transforms(x.copy())\n",
    "        x_reg = center_crop(x)\n",
    "            \n",
    "        x_trans = norm_for_imageNet(x_trans)\n",
    "        x_reg = norm_for_imageNet(x_reg)  \n",
    "        return np.rollaxis(x_reg, 2), np.rollaxis(x_trans, 2)\n",
    "\n",
    "    def __len__(self):\n",
    "        return self.len"
   ]
  },
  {
   "cell_type": "code",
   "execution_count": 11,
   "metadata": {},
   "outputs": [],
   "source": [
    "train_df = pd.read_csv(PATH/\"train_df.csv\")\n",
    "val_df = pd.read_csv(PATH/\"val_df.csv\")\n",
    "test_df = pd.read_csv(PATH/\"test_df.csv\")"
   ]
  },
  {
   "cell_type": "code",
   "execution_count": 12,
   "metadata": {},
   "outputs": [
    {
     "data": {
      "text/plain": [
       "((9069, 2), (77455, 2), (25596, 2))"
      ]
     },
     "execution_count": 12,
     "metadata": {},
     "output_type": "execute_result"
    }
   ],
   "source": [
    "val_df.shape, train_df.shape, test_df.shape"
   ]
  },
  {
   "cell_type": "code",
   "execution_count": 13,
   "metadata": {},
   "outputs": [],
   "source": [
    "batch_size = 10\n",
    "train_ds = ChestXrayDataSet(train_df, transform=True)\n",
    "valid_ds = ChestXrayDataSet(val_df)\n",
    "train_dl = DataLoader(train_ds, batch_size=batch_size, shuffle=True, num_workers=1)\n",
    "valid_dl = DataLoader(valid_ds, batch_size=batch_size, num_workers=1)"
   ]
  },
  {
   "cell_type": "code",
   "execution_count": 14,
   "metadata": {},
   "outputs": [],
   "source": [
    "unsuper_ds = ChestXrayDataSetUnsupervised(test_df, N=len(train_ds))\n",
    "unsuper_dl = DataLoader(unsuper_ds, batch_size=batch_size, shuffle=True)"
   ]
  },
  {
   "cell_type": "code",
   "execution_count": 15,
   "metadata": {},
   "outputs": [],
   "source": [
    "x, x_t = unsuper_ds[0]"
   ]
  },
  {
   "cell_type": "code",
   "execution_count": 16,
   "metadata": {},
   "outputs": [
    {
     "data": {
      "text/plain": [
       "((3, 234, 234), (3, 234, 234))"
      ]
     },
     "execution_count": 16,
     "metadata": {},
     "output_type": "execute_result"
    }
   ],
   "source": [
    "x.shape, x_t.shape"
   ]
  },
  {
   "cell_type": "markdown",
   "metadata": {},
   "source": [
    "## Model "
   ]
  },
  {
   "cell_type": "code",
   "execution_count": 17,
   "metadata": {},
   "outputs": [],
   "source": [
    "class DenseNet(nn.Module):\n",
    "    def __init__(self, out_size=14):\n",
    "        super(DenseNet, self).__init__()\n",
    "        self.densenet121 = models.densenet121(pretrained=True)\n",
    "        layers = list(self.densenet121.children())[0]\n",
    "        self.groups = nn.ModuleList([nn.Sequential(*h) for h in [layers[:7], layers[7:]]])\n",
    "        self.groups.append(nn.Linear(1024, out_size))\n",
    "\n",
    "    def forward(self, x):\n",
    "        for group in self.groups[:-1]:\n",
    "            x = group(x)\n",
    "        x = F.relu(x)\n",
    "        x = nn.AdaptiveAvgPool2d((1,1))(x)\n",
    "        x = x.view(x.shape[0], -1)\n",
    "        x = self.groups[-1](x)\n",
    "        return x"
   ]
  },
  {
   "cell_type": "code",
   "execution_count": 25,
   "metadata": {},
   "outputs": [],
   "source": [
    "model = DenseNet()"
   ]
  },
  {
   "cell_type": "code",
   "execution_count": 26,
   "metadata": {},
   "outputs": [],
   "source": [
    "x,y = next(iter(train_dl))\n",
    "x = x.float()\n",
    "y = y.float()"
   ]
  },
  {
   "cell_type": "code",
   "execution_count": 27,
   "metadata": {},
   "outputs": [
    {
     "data": {
      "text/plain": [
       "0.6999444961547852"
      ]
     },
     "execution_count": 27,
     "metadata": {},
     "output_type": "execute_result"
    }
   ],
   "source": [
    "pred = model(x)\n",
    "F.binary_cross_entropy_with_logits(pred, y).item()"
   ]
  },
  {
   "cell_type": "code",
   "execution_count": 28,
   "metadata": {},
   "outputs": [],
   "source": [
    "x, x_t = next(iter(unsuper_dl))"
   ]
  },
  {
   "cell_type": "code",
   "execution_count": 30,
   "metadata": {},
   "outputs": [],
   "source": [
    "def kl_divergence_with_logits(logit, logit_t):\n",
    "  p = F.softmax(logit, dim=1)\n",
    "  log_p = F.log_softmax(logit, dim=1)\n",
    "  log_q = F.log_softmax(logit_t, dim=1)\n",
    "  kl = (p * (log_p - log_q)).sum(1).mean()\n",
    "  return kl"
   ]
  },
  {
   "cell_type": "markdown",
   "metadata": {},
   "source": [
    "## Metrics"
   ]
  },
  {
   "cell_type": "code",
   "execution_count": 31,
   "metadata": {},
   "outputs": [],
   "source": [
    "def ave_auc(probs, ys):\n",
    "    probs = np.vstack(probs)\n",
    "    ys = np.vstack(ys)\n",
    "    aucs = [metrics.roc_auc_score(ys[:,i], probs[:,i]) for i in range(probs.shape[1])]\n",
    "    return np.mean(aucs), aucs"
   ]
  },
  {
   "cell_type": "code",
   "execution_count": 32,
   "metadata": {},
   "outputs": [],
   "source": [
    "def val_metric(model, valid_dl):\n",
    "    model.eval()\n",
    "    total = 0\n",
    "    sum_loss = 0\n",
    "    probs = []\n",
    "    ys = []\n",
    "    for x, y in valid_dl:\n",
    "        batch = y.shape[0]\n",
    "        x = x.cuda().float()\n",
    "        y = y.cuda().long()\n",
    "        out = model(x)\n",
    "        probs.append(out.detach().cpu().numpy())\n",
    "        ys.append(y.cpu().numpy())\n",
    "        loss = F.binary_cross_entropy_with_logits(out, y.float())\n",
    "        sum_loss += batch*(loss.item())\n",
    "        total += batch\n",
    "    mean_auc, _ = ave_auc(probs, ys)\n",
    "    return sum_loss/total, mean_auc"
   ]
  },
  {
   "cell_type": "code",
   "execution_count": null,
   "metadata": {},
   "outputs": [],
   "source": [
    "#val_metric(model, valid_dl)"
   ]
  },
  {
   "cell_type": "markdown",
   "metadata": {},
   "source": [
    "## Training functions"
   ]
  },
  {
   "cell_type": "code",
   "execution_count": 34,
   "metadata": {},
   "outputs": [],
   "source": [
    "def cosine_segment(start_lr, end_lr, iterations):\n",
    "    i = np.arange(iterations)\n",
    "    c_i = 1 + np.cos(i*np.pi/iterations)\n",
    "    return end_lr + (start_lr - end_lr)/2 *c_i\n",
    "\n",
    "def get_cosine_triangular_lr(max_lr, iterations):\n",
    "    min_start, min_end = max_lr/25, max_lr/(25*1e4)\n",
    "    iter1 = int(0.3*iterations)\n",
    "    iter2 = iterations - iter1\n",
    "    segs = [cosine_segment(min_start, max_lr, iter1), cosine_segment(max_lr, min_end, iter2)]\n",
    "    return np.concatenate(segs)"
   ]
  },
  {
   "cell_type": "code",
   "execution_count": 35,
   "metadata": {},
   "outputs": [
    {
     "data": {
      "image/png": "[encoded data removed]",
      "text/plain": [
       "<Figure size 432x288 with 1 Axes>"
      ]
     },
     "metadata": {
      "needs_background": "light"
     },
     "output_type": "display_data"
    }
   ],
   "source": [
    "N = 2000\n",
    "lr = get_cosine_triangular_lr(0.001, N)\n",
    "plt.plot(list(range(N)), lr)\n",
    "plt.show()"
   ]
  },
  {
   "cell_type": "code",
   "execution_count": 36,
   "metadata": {},
   "outputs": [],
   "source": [
    "def diff_lr(lr, alpha=1/3):\n",
    "    return [lr*alpha**i for i in range(2,-1,-1)]\n",
    "\n",
    "def create_optimizer(model, lr_0):\n",
    "    param_groups = [list(model.groups[i].parameters()) for i in range(3)]\n",
    "    params = [{'params':p, 'lr': lr} for p,lr in zip(param_groups, diff_lr(lr_0))]\n",
    "    return optim.Adam(params)\n",
    "\n",
    "def update_optimizer(optimizer, group_lrs):\n",
    "    for i, param_group in enumerate(optimizer.param_groups):\n",
    "        param_group[\"lr\"] = group_lrs[i]"
   ]
  },
  {
   "cell_type": "code",
   "execution_count": 37,
   "metadata": {},
   "outputs": [],
   "source": [
    "def train_triangular_policy(model, train_dl, valid_dl, max_lr=0.04, epochs = 5):\n",
    "    idx = 0\n",
    "    iterations = epochs*len(train_dl)\n",
    "    pbar = tqdm(total=iterations)\n",
    "    lrs = get_cosine_triangular_lr(max_lr, iterations)\n",
    "    optimizer = create_optimizer(model, lrs[0])\n",
    "    prev_val_auc = 0.0\n",
    "    for i in range(epochs):\n",
    "        model.train()\n",
    "        total = 0\n",
    "        sum_loss = 0\n",
    "        for (x,y), (x1,x2) in zip(train_dl, unsuper_dl):\n",
    "            lr = lrs[idx]\n",
    "            update_optimizer(optimizer, [lr/9, lr/3, lr])\n",
    "            batch = y.shape[0]\n",
    "            x = x.cuda().float()\n",
    "            y = y.cuda().float()\n",
    "            out = model(x)\n",
    "            loss = F.binary_cross_entropy_with_logits(out, y)\n",
    "            \n",
    "            # second loss\n",
    "            x = x1.cuda().float()\n",
    "            with torch.no_grad():\n",
    "                logit1 = model(x)\n",
    "            x2 = x2.cuda().float()\n",
    "            logit2 = model(x2)\n",
    "            loss += kl_divergence_with_logits(logit1, logit2)\n",
    "            optimizer.zero_grad()\n",
    "            loss.backward()\n",
    "            optimizer.step()\n",
    "            idx += 1\n",
    "            pbar.update()\n",
    "            total += batch\n",
    "            sum_loss += batch*(loss.item())\n",
    "        train_loss = sum_loss/total\n",
    "        val_loss, val_auc = val_metric(model, valid_dl)\n",
    "        print(\"train_loss %.3f val_loss %.3f val_auc %.3f \\n\" % \n",
    "              (train_loss, val_loss, val_auc))\n",
    "        if val_auc > prev_val_auc:\n",
    "            prev_val_auc = val_auc\n",
    "            path = \"{0}/models/model_densenet_auc_{1:.0f}.pth\".format(PATH, 100*val_auc) \n",
    "            save_model(model, path)\n",
    "            print(path)\n",
    "    return sum_loss/total"
   ]
  },
  {
   "cell_type": "code",
   "execution_count": 38,
   "metadata": {},
   "outputs": [],
   "source": [
    "def save_model(m, p): torch.save(m.state_dict(), p)\n",
    "    \n",
    "def load_model(m, p): m.load_state_dict(torch.load(p))\n",
    "\n",
    "def LR_range_finder(model, train_dl, lr_low=1e-4, lr_high=0.1, epochs=2):\n",
    "    losses = []\n",
    "    p = PATH/\"mode_tmp.pth\"\n",
    "    save_model(model, str(p))\n",
    "    iterations = epochs * len(train_dl)\n",
    "    pbar = tqdm(total=iterations)\n",
    "    delta = (lr_high - lr_low)/iterations\n",
    "    lrs = [lr_low + i*delta for i in range(iterations)]\n",
    "    optimizer = create_optimizer(model, lrs[0])\n",
    "    model.train()\n",
    "    ind = 0\n",
    "    prev_loss = 0\n",
    "    for i in range(epochs):\n",
    "        for x,y in train_dl:\n",
    "            lr = lrs[ind]\n",
    "            update_optimizer(optimizer, [lr/9, lr/3, lr])\n",
    "            x = x.cuda().float()\n",
    "            y = y.cuda().float()\n",
    "            out = model(x)\n",
    "            loss = F.binary_cross_entropy_with_logits(out, y)\n",
    "            optimizer.zero_grad()\n",
    "            loss.backward()\n",
    "            optimizer.step()\n",
    "            losses.append((prev_loss + loss.item())/2)\n",
    "            prev_loss = loss.item()\n",
    "            ind +=1\n",
    "            pbar.update()\n",
    "            \n",
    "    load_model(model, str(p))\n",
    "    return lrs[1:], losses[1:]"
   ]
  },
  {
   "cell_type": "code",
   "execution_count": 39,
   "metadata": {},
   "outputs": [],
   "source": [
    "#model = DenseNet().cuda()\n",
    "#lrs, losses = LR_range_finder(model, train_dl, lr_high=0.01)"
   ]
  },
  {
   "cell_type": "code",
   "execution_count": 40,
   "metadata": {},
   "outputs": [],
   "source": [
    "#plt.plot(lrs, losses)\n",
    "#plt.show()"
   ]
  },
  {
   "cell_type": "markdown",
   "metadata": {},
   "source": [
    "## Run Training"
   ]
  },
  {
   "cell_type": "code",
   "execution_count": null,
   "metadata": {},
   "outputs": [
    {
     "data": {
      "application/vnd.jupyter.widget-view+json": {
       "model_id": "d52e2fa935e549918d9d937ae39efa3f",
       "version_major": 2,
       "version_minor": 0
      },
      "text/plain": [
       "HBox(children=(IntProgress(value=0, max=77460), HTML(value='')))"
      ]
     },
     "metadata": {},
     "output_type": "display_data"
    }
   ],
   "source": [
    "model = DenseNet().cuda()\n",
    "train_triangular_policy(model, train_dl, valid_dl, max_lr=0.002, epochs = 10)"
   ]
  },
  {
   "cell_type": "code",
   "execution_count": null,
   "metadata": {},
   "outputs": [],
   "source": []
  }
 ],
 "metadata": {
  "kernelspec": {
   "display_name": "Python 3",
   "language": "python",
   "name": "python3"
  },
  "language_info": {
   "codemirror_mode": {
    "name": "ipython",
    "version": 3
   },
   "file_extension": ".py",
   "mimetype": "text/x-python",
   "name": "python",
   "nbconvert_exporter": "python",
   "pygments_lexer": "ipython3",
   "version": "3.6.8"
  },
  "toc": {
   "nav_menu": {},
   "number_sections": true,
   "sideBar": true,
   "skip_h1_title": false,
   "toc_cell": false,
   "toc_position": {},
   "toc_section_display": "block",
   "toc_window_display": false
  }
 },
 "nbformat": 4,
 "nbformat_minor": 2
}
