{
 "cells": [
  {
   "cell_type": "markdown",
   "metadata": {},
   "source": [
    "All code for the first batch of experiments. Details about each and affiliated output file are within each experiment."
   ]
  },
  {
   "cell_type": "code",
   "execution_count": 1,
   "metadata": {},
   "outputs": [],
   "source": [
    "%reload_ext autoreload\n",
    "%autoreload 2\n",
    "%matplotlib inline\n",
    "import numpy as np"
   ]
  },
  {
   "cell_type": "code",
   "execution_count": 2,
   "metadata": {},
   "outputs": [],
   "source": [
    "import pandas as pd"
   ]
  },
  {
   "cell_type": "code",
   "execution_count": 3,
   "metadata": {},
   "outputs": [],
   "source": [
    "from pathlib import Path\n",
    "from sklearn import metrics\n",
    "import random\n",
    "\n",
    "import torch\n",
    "from torch.utils.data import Dataset, DataLoader\n",
    "import torch.optim as optim\n",
    "import torch.nn as nn\n",
    "import torch.nn.functional as F\n",
    "from torchvision import models\n",
    "\n",
    "from datetime import datetime\n",
    "import cv2"
   ]
  },
  {
   "cell_type": "code",
   "execution_count": 4,
   "metadata": {},
   "outputs": [],
   "source": [
    "import matplotlib.pyplot as plt "
   ]
  },
  {
   "cell_type": "code",
   "execution_count": 5,
   "metadata": {},
   "outputs": [],
   "source": [
    "PATH = Path(\"/data2/yinterian/recology\")\n",
    "#list(PATH.iterdir())"
   ]
  },
  {
   "cell_type": "code",
   "execution_count": 6,
   "metadata": {},
   "outputs": [
    {
     "data": {
      "text/plain": [
       "True"
      ]
     },
     "execution_count": 6,
     "metadata": {},
     "output_type": "execute_result"
    }
   ],
   "source": [
    "path = list((PATH/\"stretch_imgs\").iterdir())[2]\n",
    "path.suffix == \".jpg\""
   ]
  },
  {
   "cell_type": "code",
   "execution_count": 7,
   "metadata": {},
   "outputs": [],
   "source": [
    "def read_image(path):\n",
    "    im = cv2.imread(str(path))\n",
    "    return cv2.cvtColor(im, cv2.COLOR_BGR2RGB)"
   ]
  },
  {
   "cell_type": "markdown",
   "metadata": {},
   "source": [
    "## Random transforms"
   ]
  },
  {
   "cell_type": "code",
   "execution_count": 8,
   "metadata": {},
   "outputs": [],
   "source": [
    "import math\n",
    "def crop(im, r, c, target_r, target_c): return im[r:r+target_r, c:c+target_c]\n",
    "\n",
    "# random crop to the original size\n",
    "def random_crop(x):\n",
    "    \"\"\" Returns a random crop\"\"\"\n",
    "    r, c,*_ = x.shape\n",
    "    r, c,*_ = x.shape\n",
    "    r_pix = 8\n",
    "    c_pix = round(r_pix*c/r)\n",
    "    rand_r = random.uniform(0, 1)\n",
    "    rand_c = random.uniform(0, 1)\n",
    "    start_r = np.floor(2*rand_r*r_pix).astype(int)\n",
    "    start_c = np.floor(2*rand_c*c_pix).astype(int)\n",
    "    return crop(x, start_r, start_c, r-2*r_pix, c-2*c_pix)\n",
    "\n",
    "def center_crop(x):\n",
    "    r, c,*_ = x.shape\n",
    "    r_pix = 8\n",
    "    c_pix = round(r_pix*c/r)\n",
    "    return crop(x, r_pix, c_pix, r-2*r_pix, c-2*c_pix)\n",
    "\n",
    "\n",
    "def rotate_cv(im, deg, mode=cv2.BORDER_REFLECT, interpolation=cv2.INTER_AREA):\n",
    "    \"\"\" Rotates an image by deg degrees\"\"\"\n",
    "    r,c,*_ = im.shape\n",
    "    M = cv2.getRotationMatrix2D((c/2,r/2),deg,1)\n",
    "    return cv2.warpAffine(im,M,(c,r), borderMode=mode, \n",
    "                          flags=cv2.WARP_FILL_OUTLIERS+interpolation)"
   ]
  },
  {
   "cell_type": "markdown",
   "metadata": {},
   "source": [
    "## Dataset"
   ]
  },
  {
   "cell_type": "code",
   "execution_count": 9,
   "metadata": {},
   "outputs": [],
   "source": [
    "def norm_for_imageNet(img):\n",
    "    imagenet_stats = np.array([[0.485, 0.456, 0.406], [0.229, 0.224, 0.225]])\n",
    "    return (img - imagenet_stats[0])/imagenet_stats[1] "
   ]
  },
  {
   "cell_type": "code",
   "execution_count": 10,
   "metadata": {},
   "outputs": [],
   "source": [
    "class RecologyDataset(Dataset):\n",
    "    def __init__(self, df, transform=False):\n",
    "        self.path_to_images = resize_path = PATH/\"imgs_250_333\"\n",
    "        self.transform = transform\n",
    "        self.df = df\n",
    "    \n",
    "    def __len__(self):\n",
    "        return self.df.shape[0]\n",
    "    \n",
    "    def __getitem__(self, idx):\n",
    "        row = self.df.iloc[idx]\n",
    "        path = self.path_to_images/str(row[\"image_name\"])\n",
    "        y = row[\"labels\"]\n",
    "        x = cv2.imread(str(path)).astype(np.float32)\n",
    "        x = cv2.cvtColor(x, cv2.COLOR_BGR2RGB)/255\n",
    "        if self.transform:\n",
    "            rdeg = (np.random.random()-.50)*20\n",
    "            x = rotate_cv(x, rdeg)\n",
    "            x = random_crop(x)\n",
    "            if np.random.random() > 0.5: x = np.fliplr(x).copy()\n",
    "        else:\n",
    "            x = center_crop(x)\n",
    "        x = norm_for_imageNet(x)\n",
    "        return np.rollaxis(x, 2), np.array(y)"
   ]
  },
  {
   "cell_type": "code",
   "execution_count": 11,
   "metadata": {},
   "outputs": [],
   "source": [
    "train = pd.read_pickle(PATH/\"recology_train_30k_1000.pkl\")\n",
    "valid = pd.read_pickle(PATH/\"recology_valid_30k_1000.pkl\")"
   ]
  },
  {
   "cell_type": "code",
   "execution_count": 12,
   "metadata": {},
   "outputs": [
    {
     "data": {
      "text/html": [
       "<div>\n",
       "<style scoped>\n",
       "    .dataframe tbody tr th:only-of-type {\n",
       "        vertical-align: middle;\n",
       "    }\n",
       "\n",
       "    .dataframe tbody tr th {\n",
       "        vertical-align: top;\n",
       "    }\n",
       "\n",
       "    .dataframe thead th {\n",
       "        text-align: right;\n",
       "    }\n",
       "</style>\n",
       "<table border=\"1\" class=\"dataframe\">\n",
       "  <thead>\n",
       "    <tr style=\"text-align: right;\">\n",
       "      <th></th>\n",
       "      <th>image_name</th>\n",
       "      <th>tags</th>\n",
       "      <th>labels</th>\n",
       "    </tr>\n",
       "  </thead>\n",
       "  <tbody>\n",
       "    <tr>\n",
       "      <th>0</th>\n",
       "      <td>439_75-79Pearl(3).jpg</td>\n",
       "      <td>cart plastic_bag bagged_items plastic_rigid_to...</td>\n",
       "      <td>[1, 0, 0, 0, 0, 1, 0, 0, 0, 0, 0, 0, 0, 0, 0, ...</td>\n",
       "    </tr>\n",
       "    <tr>\n",
       "      <th>1</th>\n",
       "      <td>352GrantAveCafedelaPresseLANDFILL(3).jpg</td>\n",
       "      <td>plastic_bag bagged_items food_scraps food_resi...</td>\n",
       "      <td>[1, 0, 0, 0, 0, 0, 0, 1, 1, 0, 0, 0, 0, 0, 0, ...</td>\n",
       "    </tr>\n",
       "    <tr>\n",
       "      <th>2</th>\n",
       "      <td>2301ChestnutSt.LuckyBrandLANDFILL(6).jpg</td>\n",
       "      <td>plastic_bag bagged_items cardboard_clean paper...</td>\n",
       "      <td>[1, 0, 1, 0, 0, 0, 0, 0, 0, 0, 0, 0, 0, 0, 0, ...</td>\n",
       "    </tr>\n",
       "    <tr>\n",
       "      <th>3</th>\n",
       "      <td>1064_DIVISADERO_STREET_COMPOST(4).jpg</td>\n",
       "      <td>food_scraps paper_flat_soiled plastic_film_soi...</td>\n",
       "      <td>[0, 0, 0, 0, 0, 0, 0, 0, 1, 0, 0, 0, 0, 0, 0, ...</td>\n",
       "    </tr>\n",
       "    <tr>\n",
       "      <th>4</th>\n",
       "      <td>1MarketPlazaOrganics#794(5).jpg</td>\n",
       "      <td>paper_napkin_soiled paper_cup plastic_film_soi...</td>\n",
       "      <td>[0, 0, 0, 0, 0, 0, 0, 0, 0, 0, 1, 0, 0, 0, 0, ...</td>\n",
       "    </tr>\n",
       "  </tbody>\n",
       "</table>\n",
       "</div>"
      ],
      "text/plain": [
       "                                 image_name  \\\n",
       "0                     439_75-79Pearl(3).jpg   \n",
       "1  352GrantAveCafedelaPresseLANDFILL(3).jpg   \n",
       "2  2301ChestnutSt.LuckyBrandLANDFILL(6).jpg   \n",
       "3     1064_DIVISADERO_STREET_COMPOST(4).jpg   \n",
       "4           1MarketPlazaOrganics#794(5).jpg   \n",
       "\n",
       "                                                tags  \\\n",
       "0  cart plastic_bag bagged_items plastic_rigid_to...   \n",
       "1  plastic_bag bagged_items food_scraps food_resi...   \n",
       "2  plastic_bag bagged_items cardboard_clean paper...   \n",
       "3  food_scraps paper_flat_soiled plastic_film_soi...   \n",
       "4  paper_napkin_soiled paper_cup plastic_film_soi...   \n",
       "\n",
       "                                              labels  \n",
       "0  [1, 0, 0, 0, 0, 1, 0, 0, 0, 0, 0, 0, 0, 0, 0, ...  \n",
       "1  [1, 0, 0, 0, 0, 0, 0, 1, 1, 0, 0, 0, 0, 0, 0, ...  \n",
       "2  [1, 0, 1, 0, 0, 0, 0, 0, 0, 0, 0, 0, 0, 0, 0, ...  \n",
       "3  [0, 0, 0, 0, 0, 0, 0, 0, 1, 0, 0, 0, 0, 0, 0, ...  \n",
       "4  [0, 0, 0, 0, 0, 0, 0, 0, 0, 0, 1, 0, 0, 0, 0, ...  "
      ]
     },
     "execution_count": 12,
     "metadata": {},
     "output_type": "execute_result"
    }
   ],
   "source": [
    "train.head()"
   ]
  },
  {
   "cell_type": "code",
   "execution_count": 13,
   "metadata": {},
   "outputs": [],
   "source": [
    "train_ds = RecologyDataset(train, transform=True)\n",
    "valid_ds = RecologyDataset(valid)"
   ]
  },
  {
   "cell_type": "code",
   "execution_count": 14,
   "metadata": {},
   "outputs": [],
   "source": [
    "x, y = train_ds[0]"
   ]
  },
  {
   "cell_type": "code",
   "execution_count": 15,
   "metadata": {},
   "outputs": [
    {
     "data": {
      "text/plain": [
       "(3, 234, 311)"
      ]
     },
     "execution_count": 15,
     "metadata": {},
     "output_type": "execute_result"
    }
   ],
   "source": [
    "x.shape"
   ]
  },
  {
   "cell_type": "code",
   "execution_count": 16,
   "metadata": {},
   "outputs": [],
   "source": [
    "x, y = valid_ds[0]"
   ]
  },
  {
   "cell_type": "code",
   "execution_count": 17,
   "metadata": {},
   "outputs": [
    {
     "data": {
      "text/plain": [
       "((3, 234, 311), (34,))"
      ]
     },
     "execution_count": 17,
     "metadata": {},
     "output_type": "execute_result"
    }
   ],
   "source": [
    "x.shape, y.shape"
   ]
  },
  {
   "cell_type": "code",
   "execution_count": 18,
   "metadata": {},
   "outputs": [],
   "source": [
    "batch_size = 32\n",
    "train_dl = DataLoader(train_ds, batch_size=batch_size,  shuffle=True)\n",
    "valid_dl = DataLoader(valid_ds, batch_size=batch_size)"
   ]
  },
  {
   "cell_type": "code",
   "execution_count": 19,
   "metadata": {},
   "outputs": [
    {
     "data": {
      "text/plain": [
       "(34,)"
      ]
     },
     "execution_count": 19,
     "metadata": {},
     "output_type": "execute_result"
    }
   ],
   "source": [
    "y.shape"
   ]
  },
  {
   "cell_type": "markdown",
   "metadata": {},
   "source": [
    "## Model"
   ]
  },
  {
   "cell_type": "code",
   "execution_count": 20,
   "metadata": {},
   "outputs": [],
   "source": [
    "# Model 2\n",
    "class Net(nn.Module):\n",
    "    def __init__(self):\n",
    "        super(Net, self).__init__()\n",
    "        self.resnet = models.resnet34(pretrained=True)\n",
    "        self.freeze()\n",
    "        layers = list(self.resnet.children())[:8]\n",
    "        self.groups = nn.ModuleList([nn.Sequential(*h) for h in [layers[:6], layers[6:]]])\n",
    "        self.groups.append(nn.Linear(512, 34))\n",
    "\n",
    "    def forward(self, x):\n",
    "        for group in self.groups[:2]:\n",
    "            x = group(x)\n",
    "        x = F.relu(x)\n",
    "        x = nn.AdaptiveAvgPool2d((1,1))(x)\n",
    "        x = x.view(x.shape[0], -1)\n",
    "        x = self.groups[2](x)\n",
    "        return x\n",
    "    \n",
    "    def freeze(self):\n",
    "        for param in self.resnet.parameters():\n",
    "            param.requires_grad = False\n",
    "    \n",
    "    def unfreeze(self,  group_idx:int):\n",
    "        group = self.groups[group_idx]\n",
    "        parameters = filter(lambda x: hasattr(x,'requires_grad'), group.parameters())\n",
    "        for p in parameters: \n",
    "            p.requires_grad = True"
   ]
  },
  {
   "cell_type": "code",
   "execution_count": 21,
   "metadata": {},
   "outputs": [],
   "source": [
    "model = Net().cuda()"
   ]
  },
  {
   "cell_type": "markdown",
   "metadata": {},
   "source": [
    "## Metrics"
   ]
  },
  {
   "cell_type": "code",
   "execution_count": 21,
   "metadata": {},
   "outputs": [],
   "source": [
    "def ave_auc(probs, ys):\n",
    "    probs = np.vstack(probs)\n",
    "    ys = np.vstack(ys)\n",
    "    aucs = [metrics.roc_auc_score(ys[:,i], probs[:,i]) for i in range(probs.shape[1])\n",
    "            if ys[:,i].sum() >0]\n",
    "    return np.mean(aucs)"
   ]
  },
  {
   "cell_type": "code",
   "execution_count": 22,
   "metadata": {},
   "outputs": [],
   "source": [
    "def val_metric(model, valid_dl):\n",
    "    model.eval()\n",
    "    total = 0\n",
    "    sum_loss = 0\n",
    "    probs = []\n",
    "    ys = []\n",
    "    for x, y in valid_dl:\n",
    "        batch = y.shape[0]\n",
    "        x = x.cuda().float()\n",
    "        y = y.cuda().long()\n",
    "        out = model(x)\n",
    "        probs.append(out.detach().cpu().numpy())\n",
    "        ys.append(y.cpu().numpy())\n",
    "        loss = F.binary_cross_entropy_with_logits(out, y.float())\n",
    "        sum_loss += batch*(loss.item())\n",
    "        total += batch\n",
    "    probs = np.vstack(probs)\n",
    "    ys = np.vstack(ys)\n",
    "    auc = ave_auc(probs, ys)\n",
    "    return sum_loss/total, auc"
   ]
  },
  {
   "cell_type": "code",
   "execution_count": 23,
   "metadata": {},
   "outputs": [],
   "source": [
    "def save_model(m, p): torch.save(m.state_dict(), p)"
   ]
  },
  {
   "cell_type": "code",
   "execution_count": 24,
   "metadata": {},
   "outputs": [
    {
     "ename": "NameError",
     "evalue": "name 'model' is not defined",
     "output_type": "error",
     "traceback": [
      "\u001b[0;31m---------------------------------------------------------------------------\u001b[0m",
      "\u001b[0;31mNameError\u001b[0m                                 Traceback (most recent call last)",
      "\u001b[0;32m<ipython-input-24-f83564a3de39>\u001b[0m in \u001b[0;36m<module>\u001b[0;34m\u001b[0m\n\u001b[0;32m----> 1\u001b[0;31m \u001b[0mval_metric\u001b[0m\u001b[0;34m(\u001b[0m\u001b[0mmodel\u001b[0m\u001b[0;34m,\u001b[0m \u001b[0mvalid_dl\u001b[0m\u001b[0;34m)\u001b[0m\u001b[0;34m\u001b[0m\u001b[0;34m\u001b[0m\u001b[0m\n\u001b[0m",
      "\u001b[0;31mNameError\u001b[0m: name 'model' is not defined"
     ]
    }
   ],
   "source": [
    "val_metric(model, valid_dl)"
   ]
  },
  {
   "cell_type": "markdown",
   "metadata": {},
   "source": [
    "## Training "
   ]
  },
  {
   "cell_type": "code",
   "execution_count": 25,
   "metadata": {},
   "outputs": [],
   "source": [
    "def train(model, train_dl, valid_dl, lr, epochs=1):\n",
    "    optim = get_optimizer(model, lr = lr, wd =0)\n",
    "    for i in range(epochs):\n",
    "        model.train()\n",
    "        total = 0\n",
    "        sum_loss = 0\n",
    "        for i, (x, y) in enumerate(train_dl):\n",
    "            batch = y.shape[0]\n",
    "            x = x.cuda().float()\n",
    "            y = y.cuda().float()\n",
    "            out = model(x)\n",
    "            loss = F.binary_cross_entropy_with_logits(out, y)\n",
    "            optim.zero_grad()\n",
    "            loss.backward()\n",
    "            optim.step()     \n",
    "            total += batch\n",
    "            sum_loss += batch*(loss.item())\n",
    "        print(\"train loss %.3f\" %(sum_loss/total))\n",
    "        val_metric(model, valid_dl)\n",
    "    return sum_loss/total"
   ]
  },
  {
   "cell_type": "code",
   "execution_count": 26,
   "metadata": {},
   "outputs": [],
   "source": [
    "def cosine_segment(start_lr, end_lr, iterations):\n",
    "    i = np.arange(iterations)\n",
    "    c_i = 1 + np.cos(i*np.pi/iterations)\n",
    "    return end_lr + (start_lr - end_lr)/2 *c_i\n",
    "\n",
    "def get_cosine_triangular_lr(max_lr, iterations):\n",
    "    min_start, min_end = max_lr/25, max_lr/(25*1e4)\n",
    "    iter1 = int(0.3*iterations)\n",
    "    iter2 = iterations - iter1\n",
    "    segs = [cosine_segment(min_start, max_lr, iter1), cosine_segment(max_lr, min_end, iter2)]\n",
    "    return np.concatenate(segs)"
   ]
  },
  {
   "cell_type": "code",
   "execution_count": 27,
   "metadata": {},
   "outputs": [
    {
     "data": {
      "image/png": "[encoded data removed]",
      "text/plain": [
       "<Figure size 432x288 with 1 Axes>"
      ]
     },
     "metadata": {
      "needs_background": "light"
     },
     "output_type": "display_data"
    }
   ],
   "source": [
    "N = 2000\n",
    "lr = get_cosine_triangular_lr(0.001, N)\n",
    "plt.plot(list(range(N)), lr)\n",
    "plt.show()"
   ]
  },
  {
   "cell_type": "code",
   "execution_count": 28,
   "metadata": {},
   "outputs": [],
   "source": [
    "#data = {\"lr\": lr, \"iter\": list(range(iter))}\n",
    "#df = pd.DataFrame(data) \n",
    "#df.to_csv(\"learning_rate_scheduler.csv\")"
   ]
  },
  {
   "cell_type": "code",
   "execution_count": 29,
   "metadata": {},
   "outputs": [],
   "source": [
    "def diff_lr(lr, alpha=1/3):\n",
    "    return [lr*alpha**i for i in range(2,-1,-1)]\n",
    "\n",
    "def create_optimizer(model, lr_0):\n",
    "    param_groups = [list(model.groups[i].parameters()) for i in range(3)]\n",
    "    params = [{'params':p, 'lr': lr} for p,lr in zip(param_groups, diff_lr(lr_0))]\n",
    "    return optim.Adam(params)\n",
    "\n",
    "def update_optimizer(optimizer, group_lrs):\n",
    "    for i, param_group in enumerate(optimizer.param_groups):\n",
    "        param_group[\"lr\"] = group_lrs[i]"
   ]
  },
  {
   "cell_type": "code",
   "execution_count": 30,
   "metadata": {},
   "outputs": [],
   "source": [
    "def train_triangular_policy(model, train_dl, valid_dl, max_lr=0.04, epochs = 5):\n",
    "    idx = 0\n",
    "    iterations = epochs*len(train_dl)\n",
    "    lrs = get_cosine_triangular_lr(max_lr, iterations)\n",
    "    optimizer = create_optimizer(model, lrs[0])\n",
    "    prev_val_auc = 0.0\n",
    "    for i in range(epochs):\n",
    "        model.train()\n",
    "        total = 0\n",
    "        sum_loss = 0\n",
    "        for i, (x, y) in enumerate(train_dl):\n",
    "            lr = lrs[idx]\n",
    "            update_optimizer(optimizer, [lr/9, lr/3, lr])\n",
    "            batch = y.shape[0]\n",
    "            x = x.cuda().float()\n",
    "            y = y.cuda().float()\n",
    "            out = model(x)\n",
    "            loss = F.binary_cross_entropy_with_logits(out, y)\n",
    "            optimizer.zero_grad()\n",
    "            loss.backward()\n",
    "            optimizer.step()\n",
    "            idx += 1\n",
    "            if idx == int(0.1*iterations):\n",
    "                model.unfreeze(1)\n",
    "                print(idx, \"unfreezing 1\")\n",
    "            if idx == int(0.2*iterations):\n",
    "                model.unfreeze(0)\n",
    "                print(idx, \"unfreezing 0\")\n",
    "            total += batch\n",
    "            sum_loss += batch*(loss.item())\n",
    "        train_loss = sum_loss/total\n",
    "        val_loss, val_auc = val_metric(model, valid_dl)\n",
    "        print(\"train_loss %.3f val_loss %.3f val_auc %.3f \\n\" % \n",
    "              (train_loss, val_loss, val_auc))\n",
    "        if val_auc > prev_val_auc:\n",
    "            prev_val_auc = val_auc\n",
    "            path = \"{0}/models/model_1000_resnet34_auc_1_{1:.0f}.pth\".format(PATH, 100*val_auc) \n",
    "            save_model(model, path)\n",
    "            print(path)\n",
    "    return sum_loss/total"
   ]
  },
  {
   "cell_type": "markdown",
   "metadata": {},
   "source": [
    "## Learning rate finder -- new version"
   ]
  },
  {
   "cell_type": "code",
   "execution_count": 31,
   "metadata": {},
   "outputs": [],
   "source": [
    "def save_model(m, p): torch.save(m.state_dict(), p)\n",
    "    \n",
    "def load_model(m, p): m.load_state_dict(torch.load(p))\n",
    "\n",
    "def LR_range_finder(model, train_dl, lr_low=1e-4, lr_high=0.1, epochs=2):\n",
    "    losses = []\n",
    "    p = PATH/\"mode_tmp.pth\"\n",
    "    save_model(model, str(p))\n",
    "    iterations = epochs * len(train_dl)\n",
    "    delta = (lr_high - lr_low)/iterations\n",
    "    lrs = [lr_low + i*delta for i in range(iterations)]\n",
    "    model.train()\n",
    "    ind = 0\n",
    "    prev_loss = 0\n",
    "    for i in range(epochs):\n",
    "        for x,y in train_dl:\n",
    "            optim = get_optimizer(model, lr=lrs[ind])\n",
    "            x = x.cuda().float()\n",
    "            y = y.cuda().float()\n",
    "            out = model(x)\n",
    "            loss = F.binary_cross_entropy_with_logits(out, y)\n",
    "            optim.zero_grad()\n",
    "            loss.backward()\n",
    "            optim.step()\n",
    "            losses.append((prev_loss + loss.item())/2)\n",
    "            prev_loss = loss.item()\n",
    "            ind +=1\n",
    "            \n",
    "    load_model(model, str(p))\n",
    "    return lrs[1:], losses[1:]"
   ]
  },
  {
   "cell_type": "code",
   "execution_count": 389,
   "metadata": {},
   "outputs": [],
   "source": [
    "model = Net().cuda()"
   ]
  },
  {
   "cell_type": "code",
   "execution_count": 390,
   "metadata": {},
   "outputs": [],
   "source": [
    "lrs, losses = LR_range_finder(model, train_dl, lr_high=0.001)"
   ]
  },
  {
   "cell_type": "code",
   "execution_count": 392,
   "metadata": {},
   "outputs": [
    {
     "data": {
      "image/png": "[encoded data removed]",
      "text/plain": [
       "<Figure size 432x288 with 1 Axes>"
      ]
     },
     "metadata": {
      "needs_background": "light"
     },
     "output_type": "display_data"
    }
   ],
   "source": [
    "plt.plot(lrs, losses)\n",
    "plt.show()"
   ]
  },
  {
   "cell_type": "code",
   "execution_count": 32,
   "metadata": {},
   "outputs": [],
   "source": [
    "def save_model(m, p): \n",
    "    torch.save(m.state_dict(), p)"
   ]
  },
  {
   "cell_type": "code",
   "execution_count": 58,
   "metadata": {},
   "outputs": [],
   "source": [
    "def train_one_model(i, model):\n",
    "    train_triangular_policy(model, train_dl, valid_dl, epochs=1, max_lr=0.0004)\n",
    "    model.unfreeze(1)\n",
    "    name = \"models/model_1000_resnet34_\" + str(i) +  \"_0\" + \".pth\"\n",
    "    path = PATH/name\n",
    "    train_triangular_policy(model, train_dl, valid_dl, epochs=5, max_lr=0.0004)\n",
    "    save_model(model, path)\n",
    "    print(path)\n",
    "    model.unfreeze(0)\n",
    "    train_triangular_policy(model, train_dl, valid_dl, epochs=5, max_lr=0.0004)\n",
    "    name = \"models/model_1000_resnet34_\" + str(i) +  \"_2\" + \".pth\"\n",
    "    path = PATH/name\n",
    "    save_model(model, path)\n",
    "    print(path)"
   ]
  },
  {
   "cell_type": "markdown",
   "metadata": {},
   "source": [
    "## Run Training "
   ]
  },
  {
   "cell_type": "code",
   "execution_count": 59,
   "metadata": {},
   "outputs": [
    {
     "name": "stdout",
     "output_type": "stream",
     "text": [
      "684 unfreezing 1\n",
      "train_loss 0.320 val_loss 0.287 val_auc 0.779 \n",
      "\n",
      "/data2/yinterian/recology/models/model_1000_resnet34_auc_1_78.pth\n",
      "1368 unfreezing 0\n",
      "train_loss 0.271 val_loss 0.291 val_auc 0.781 \n",
      "\n",
      "/data2/yinterian/recology/models/model_1000_resnet34_auc_1_78.pth\n",
      "train_loss 0.263 val_loss 0.284 val_auc 0.795 \n",
      "\n",
      "/data2/yinterian/recology/models/model_1000_resnet34_auc_1_79.pth\n",
      "train_loss 0.254 val_loss 0.254 val_auc 0.822 \n",
      "\n",
      "/data2/yinterian/recology/models/model_1000_resnet34_auc_1_82.pth\n",
      "train_loss 0.243 val_loss 0.263 val_auc 0.820 \n",
      "\n",
      "train_loss 0.230 val_loss 0.246 val_auc 0.840 \n",
      "\n",
      "/data2/yinterian/recology/models/model_1000_resnet34_auc_1_84.pth\n",
      "train_loss 0.214 val_loss 0.242 val_auc 0.846 \n",
      "\n",
      "/data2/yinterian/recology/models/model_1000_resnet34_auc_1_85.pth\n",
      "train_loss 0.200 val_loss 0.247 val_auc 0.845 \n",
      "\n"
     ]
    },
    {
     "data": {
      "text/plain": [
       "0.2002032062765117"
      ]
     },
     "execution_count": 59,
     "metadata": {},
     "output_type": "execute_result"
    }
   ],
   "source": [
    "model = Net().cuda()\n",
    "train_triangular_policy(model, train_dl, valid_dl, max_lr=0.002, epochs = 8)"
   ]
  },
  {
   "cell_type": "code",
   "execution_count": 33,
   "metadata": {},
   "outputs": [
    {
     "name": "stdout",
     "output_type": "stream",
     "text": [
      "684 unfreezing 1\n",
      "train_loss 0.340 val_loss 0.276 val_auc 0.778 \n",
      "\n",
      "/data2/yinterian/recology/models/model_1000_resnet34_auc_1_78.pth\n",
      "1368 unfreezing 0\n",
      "train_loss 0.265 val_loss 0.274 val_auc 0.799 \n",
      "\n",
      "/data2/yinterian/recology/models/model_1000_resnet34_auc_1_80.pth\n",
      "train_loss 0.255 val_loss 0.260 val_auc 0.817 \n",
      "\n",
      "/data2/yinterian/recology/models/model_1000_resnet34_auc_1_82.pth\n",
      "train_loss 0.245 val_loss 0.266 val_auc 0.821 \n",
      "\n",
      "/data2/yinterian/recology/models/model_1000_resnet34_auc_1_82.pth\n",
      "train_loss 0.233 val_loss 0.252 val_auc 0.832 \n",
      "\n",
      "/data2/yinterian/recology/models/model_1000_resnet34_auc_1_83.pth\n",
      "train_loss 0.216 val_loss 0.242 val_auc 0.843 \n",
      "\n",
      "/data2/yinterian/recology/models/model_1000_resnet34_auc_1_84.pth\n",
      "train_loss 0.197 val_loss 0.246 val_auc 0.845 \n",
      "\n",
      "/data2/yinterian/recology/models/model_1000_resnet34_auc_1_85.pth\n",
      "train_loss 0.182 val_loss 0.248 val_auc 0.844 \n",
      "\n"
     ]
    },
    {
     "data": {
      "text/plain": [
       "0.1823389929660751"
      ]
     },
     "execution_count": 33,
     "metadata": {},
     "output_type": "execute_result"
    }
   ],
   "source": [
    "model = Net().cuda()\n",
    "train_triangular_policy(model, train_dl, valid_dl, max_lr=0.001, epochs = 8)"
   ]
  },
  {
   "cell_type": "code",
   "execution_count": 45,
   "metadata": {},
   "outputs": [
    {
     "name": "stdout",
     "output_type": "stream",
     "text": [
      "684 unfreezing 1\n",
      "train_loss 0.365 val_loss 0.272 val_auc 0.774 \n",
      "\n",
      "/data2/yinterian/recology/models/model_1000_resnet34_auc_6_77.pth\n",
      "1368 unfreezing 0\n",
      "train_loss 0.262 val_loss 0.261 val_auc 0.811 \n",
      "\n",
      "/data2/yinterian/recology/models/model_1000_resnet34_auc_6_81.pth\n",
      "train_loss 0.250 val_loss 0.252 val_auc 0.824 \n",
      "\n",
      "/data2/yinterian/recology/models/model_1000_resnet34_auc_6_82.pth\n",
      "train_loss 0.238 val_loss 0.255 val_auc 0.830 \n",
      "\n",
      "/data2/yinterian/recology/models/model_1000_resnet34_auc_6_83.pth\n",
      "train_loss 0.224 val_loss 0.252 val_auc 0.840 \n",
      "\n",
      "/data2/yinterian/recology/models/model_1000_resnet34_auc_6_84.pth\n",
      "train_loss 0.206 val_loss 0.247 val_auc 0.842 \n",
      "\n",
      "/data2/yinterian/recology/models/model_1000_resnet34_auc_6_84.pth\n",
      "train_loss 0.185 val_loss 0.246 val_auc 0.843 \n",
      "\n",
      "/data2/yinterian/recology/models/model_1000_resnet34_auc_6_84.pth\n",
      "train_loss 0.172 val_loss 0.247 val_auc 0.843 \n",
      "\n"
     ]
    },
    {
     "data": {
      "text/plain": [
       "0.17175203378774648"
      ]
     },
     "execution_count": 45,
     "metadata": {},
     "output_type": "execute_result"
    }
   ],
   "source": [
    "model = Net().cuda()\n",
    "train_triangular_policy(model, train_dl, valid_dl, max_lr=0.0006, epochs = 8)"
   ]
  },
  {
   "cell_type": "code",
   "execution_count": 29,
   "metadata": {},
   "outputs": [
    {
     "name": "stdout",
     "output_type": "stream",
     "text": [
      "684 unfreezing 1\n",
      "train_loss 0.379 val_loss 0.275 val_auc 0.772 \n",
      "\n",
      "/data2/yinterian/recology/models/model_1000_resnet34_auc_77.pth\n",
      "1368 unfreezing 0\n",
      "train_loss 0.261 val_loss 0.258 val_auc 0.814 \n",
      "\n",
      "/data2/yinterian/recology/models/model_1000_resnet34_auc_81.pth\n",
      "train_loss 0.247 val_loss 0.255 val_auc 0.825 \n",
      "\n",
      "/data2/yinterian/recology/models/model_1000_resnet34_auc_83.pth\n",
      "train_loss 0.234 val_loss 0.252 val_auc 0.831 \n",
      "\n",
      "/data2/yinterian/recology/models/model_1000_resnet34_auc_83.pth\n",
      "train_loss 0.219 val_loss 0.246 val_auc 0.837 \n",
      "\n",
      "/data2/yinterian/recology/models/model_1000_resnet34_auc_84.pth\n",
      "train_loss 0.199 val_loss 0.245 val_auc 0.840 \n",
      "\n",
      "/data2/yinterian/recology/models/model_1000_resnet34_auc_84.pth\n",
      "train_loss 0.180 val_loss 0.248 val_auc 0.841 \n",
      "\n",
      "/data2/yinterian/recology/models/model_1000_resnet34_auc_84.pth\n",
      "train_loss 0.169 val_loss 0.249 val_auc 0.840 \n",
      "\n"
     ]
    },
    {
     "data": {
      "text/plain": [
       "0.16856140331023525"
      ]
     },
     "execution_count": 29,
     "metadata": {},
     "output_type": "execute_result"
    }
   ],
   "source": [
    "model = Net().cuda()\n",
    "train_triangular_policy(model, train_dl, valid_dl, max_lr=0.0004, epochs = 8)"
   ]
  },
  {
   "cell_type": "code",
   "execution_count": 32,
   "metadata": {},
   "outputs": [
    {
     "name": "stdout",
     "output_type": "stream",
     "text": [
      "train loss 0.390\n",
      "val loss 0.321 val auc 0.575 \n",
      "\n",
      "940 unfreezing 1\n",
      "train loss 0.274\n",
      "val loss 0.258 val auc 0.810 \n",
      "\n",
      "1881 unfreezing 0\n",
      "train loss 0.251\n",
      "val loss 0.261 val auc 0.816 \n",
      "\n",
      "train loss 0.239\n",
      "val loss 0.253 val auc 0.825 \n",
      "\n",
      "train loss 0.228\n",
      "val loss 0.252 val auc 0.830 \n",
      "\n",
      "train loss 0.215\n",
      "val loss 0.249 val auc 0.837 \n",
      "\n",
      "train loss 0.199\n",
      "val loss 0.251 val auc 0.840 \n",
      "\n",
      "train loss 0.179\n",
      "val loss 0.254 val auc 0.837 \n",
      "\n",
      "train loss 0.162\n",
      "val loss 0.257 val auc 0.837 \n",
      "\n",
      "train loss 0.148\n",
      "val loss 0.259 val auc 0.836 \n",
      "\n",
      "train loss 0.142\n",
      "val loss 0.260 val auc 0.836 \n",
      "\n"
     ]
    },
    {
     "data": {
      "text/plain": [
       "0.1418162404849965"
      ]
     },
     "execution_count": 32,
     "metadata": {},
     "output_type": "execute_result"
    }
   ],
   "source": [
    "model = Net().cuda()\n",
    "train_triangular_policy(model, train_dl, valid_dl, max_lr=0.0004, epochs = 11)"
   ]
  },
  {
   "cell_type": "code",
   "execution_count": 316,
   "metadata": {},
   "outputs": [
    {
     "name": "stdout",
     "output_type": "stream",
     "text": [
      "train loss 0.356\n",
      "val loss 0.307 val auc 0.647 \n",
      "\n",
      "train loss 0.275\n",
      "val loss 0.267 val auc 0.793 \n",
      "\n",
      "train loss 0.254\n",
      "val loss 0.266 val auc 0.811 \n",
      "\n",
      "train loss 0.239\n",
      "val loss 0.255 val auc 0.827 \n",
      "\n",
      "train loss 0.220\n",
      "val loss 0.249 val auc 0.835 \n",
      "\n",
      "train loss 0.203\n",
      "val loss 0.245 val auc 0.838 \n",
      "\n",
      "/data2/yinterian/recology/models/model_all_resnet34_1_0.pth\n",
      "train loss 0.200\n",
      "val loss 0.249 val auc 0.835 \n",
      "\n",
      "train loss 0.199\n",
      "val loss 0.250 val auc 0.833 \n",
      "\n",
      "train loss 0.193\n",
      "val loss 0.254 val auc 0.835 \n",
      "\n",
      "train loss 0.184\n",
      "val loss 0.251 val auc 0.836 \n",
      "\n",
      "train loss 0.179\n",
      "val loss 0.249 val auc 0.837 \n",
      "\n",
      "/data2/yinterian/recology/models/model_all_resnet34_1_1.pth\n"
     ]
    }
   ],
   "source": [
    "model = train_one_model(1)"
   ]
  },
  {
   "cell_type": "code",
   "execution_count": 157,
   "metadata": {},
   "outputs": [
    {
     "name": "stdout",
     "output_type": "stream",
     "text": [
      "train loss 0.328\n",
      "val loss 0.296 val auc 0.699 \n",
      "\n",
      "train loss 0.266\n",
      "val loss 0.301 val auc 0.779 \n",
      "\n",
      "train loss 0.258\n",
      "val loss 0.283 val auc 0.792 \n",
      "\n",
      "train loss 0.244\n",
      "val loss 0.252 val auc 0.829 \n",
      "\n",
      "train loss 0.222\n",
      "val loss 0.248 val auc 0.836 \n",
      "\n",
      "train loss 0.212\n",
      "val loss 0.246 val auc 0.837 \n",
      "\n",
      "/data2/yinterian/recology/models/model_1000_resnet34_0_0.pth\n",
      "train loss 0.208\n",
      "val loss 0.245 val auc 0.839 \n",
      "\n",
      "train loss 0.208\n",
      "val loss 0.248 val auc 0.836 \n",
      "\n",
      "train loss 0.206\n",
      "val loss 0.246 val auc 0.838 \n",
      "\n",
      "train loss 0.205\n",
      "val loss 0.247 val auc 0.838 \n",
      "\n",
      "train loss 0.205\n",
      "val loss 0.247 val auc 0.837 \n",
      "\n",
      "/data2/yinterian/recology/models/model_1000_resnet34_0_1.pth\n"
     ]
    }
   ],
   "source": [
    "model = train_one_model(0)"
   ]
  },
  {
   "cell_type": "code",
   "execution_count": 62,
   "metadata": {},
   "outputs": [],
   "source": [
    "class Net50(nn.Module):\n",
    "    def __init__(self):\n",
    "        super(Net50, self).__init__()\n",
    "        resnet = models.resnet50(pretrained=True)\n",
    "        for param in resnet.parameters():\n",
    "            param.requires_grad = False\n",
    "        layers = list(resnet.children())[:8]\n",
    "        self.top_model = nn.Sequential(*layers)\n",
    "        self.fc1 = nn.Linear(2048, 34)\n",
    "    \n",
    "    def forward(self, x):\n",
    "        x = F.relu(self.top_model(x))\n",
    "        x = nn.AdaptiveAvgPool2d((1,1))(x)\n",
    "        x = x.view(x.shape[0], -1)\n",
    "        x = self.fc1(x)\n",
    "        return x"
   ]
  },
  {
   "cell_type": "markdown",
   "metadata": {},
   "source": [
    "## test auc"
   ]
  },
  {
   "cell_type": "code",
   "execution_count": 60,
   "metadata": {},
   "outputs": [],
   "source": [
    "p = PATH/\"models/model_1000_resnet34_auc_1_85.pth\"\n",
    "model = Net().cuda()\n",
    "load_model(model, p)"
   ]
  },
  {
   "cell_type": "code",
   "execution_count": 61,
   "metadata": {},
   "outputs": [
    {
     "name": "stdout",
     "output_type": "stream",
     "text": [
      "mateo_1000.pkl\n",
      "dean_1000.pkl\n",
      "sergey_1000.pkl\n",
      "angela_1000.pkl\n"
     ]
    }
   ],
   "source": [
    "h = []\n",
    "for name in [\"mateo\", \"dean\", \"sergey\", \"angela\"]:\n",
    "    name += \"_1000.pkl\"\n",
    "    print(name)\n",
    "    df = pd.read_pickle(PATH/name)\n",
    "    h.append(df)"
   ]
  },
  {
   "cell_type": "code",
   "execution_count": 62,
   "metadata": {},
   "outputs": [],
   "source": [
    "h_ds = [RecologyDataset(df) for df in h]"
   ]
  },
  {
   "cell_type": "code",
   "execution_count": 63,
   "metadata": {},
   "outputs": [],
   "source": [
    "h_dl = [DataLoader(ds, batch_size=16) for ds in h_ds]"
   ]
  },
  {
   "cell_type": "code",
   "execution_count": 64,
   "metadata": {},
   "outputs": [
    {
     "data": {
      "text/plain": [
       "[(0.285084136724472, 0.8394799681620106),\n",
       " (0.24059936225414277, 0.8484751231443367),\n",
       " (0.32244451582431793, 0.8232108589926812),\n",
       " (0.23712303161621093, 0.8503014846320718)]"
      ]
     },
     "execution_count": 64,
     "metadata": {},
     "output_type": "execute_result"
    }
   ],
   "source": [
    "[val_metric(model, dl) for dl in h_dl]"
   ]
  },
  {
   "cell_type": "code",
   "execution_count": 50,
   "metadata": {},
   "outputs": [
    {
     "data": {
      "text/plain": [
       "[(0.2918749672174454, 0.8546467083557419),\n",
       " (0.25662042617797853, 0.8652903800266077),\n",
       " (0.328460191488266, 0.8285181737431222),\n",
       " (0.2509290450811386, 0.8529402048730621)]"
      ]
     },
     "execution_count": 50,
     "metadata": {},
     "output_type": "execute_result"
    }
   ],
   "source": [
    "[val_metric(model, dl) for dl in h_dl]"
   ]
  },
  {
   "cell_type": "code",
   "execution_count": 69,
   "metadata": {},
   "outputs": [
    {
     "data": {
      "text/plain": [
       "[0.8819247213209765,\n",
       " 0.9319722135689911,\n",
       " 0.8218093155920816,\n",
       " 0.8957655089343914]"
      ]
     },
     "execution_count": 69,
     "metadata": {},
     "output_type": "execute_result"
    }
   ],
   "source": [
    "ys = [df[\"labels\"].values for df in h]\n",
    "def compute_auc_humans(ys, k):\n",
    "    \"\"\"With respect to i\"\"\"\n",
    "    \n",
    "    y = ys[k]\n",
    "    ys_k = [l for i,l in enumerate(ys) if i!=k]\n",
    "    prob = np.mean(ys_k, axis=0)\n",
    "    return ave_auc(prob, y)\n",
    "aucs = [compute_auc_humans(ys, k) for k in range(4)]\n",
    "aucs"
   ]
  },
  {
   "cell_type": "code",
   "execution_count": 70,
   "metadata": {},
   "outputs": [
    {
     "data": {
      "text/plain": [
       "0.8828679398541102"
      ]
     },
     "execution_count": 70,
     "metadata": {},
     "output_type": "execute_result"
    }
   ],
   "source": [
    "np.mean(aucs)"
   ]
  },
  {
   "cell_type": "markdown",
   "metadata": {},
   "source": [
    "## Test time augmentation"
   ]
  },
  {
   "cell_type": "code",
   "execution_count": 65,
   "metadata": {},
   "outputs": [],
   "source": [
    "def pred(model, test_dl):\n",
    "    model.eval()\n",
    "    total = 0\n",
    "    sum_loss = 0\n",
    "    probs = []\n",
    "    ys = []\n",
    "    for x, y in test_dl:\n",
    "        x = x.cuda().float()\n",
    "        y = y.cuda().long()\n",
    "        out = model(x)\n",
    "        probs.append(out.detach().cpu().numpy())\n",
    "        ys.append(y.cpu().numpy())\n",
    "    probs = np.vstack(probs)\n",
    "    ys = np.vstack(ys)\n",
    "    return probs, ys"
   ]
  },
  {
   "cell_type": "code",
   "execution_count": 66,
   "metadata": {},
   "outputs": [],
   "source": [
    "h_ds_trs = [RecologyDataset(df, transform=True) for df in h]\n",
    "h_ds = [RecologyDataset(df) for df in h]\n",
    "        \n",
    "h_dl = [DataLoader(ds, batch_size=32) for ds in h_ds]\n",
    "h_dl_trs = [DataLoader(ds, batch_size=32) for ds in h_ds_trs]"
   ]
  },
  {
   "cell_type": "code",
   "execution_count": 67,
   "metadata": {},
   "outputs": [],
   "source": [
    "def ave_auc2(probs, ys):\n",
    "    aucs = [metrics.roc_auc_score(ys[:,i], probs[:,i]) for i in range(probs.shape[1])\n",
    "            if ys[:,i].sum() >0]\n",
    "    return np.mean(aucs)"
   ]
  },
  {
   "cell_type": "code",
   "execution_count": 68,
   "metadata": {},
   "outputs": [],
   "source": [
    "def ave_F1(probs, ys):\n",
    "    f1s = [metrics.f1_score(ys[:,i], probs[:,i]) for i in range(probs.shape[1])]\n",
    "    return np.mean(f1s)"
   ]
  },
  {
   "cell_type": "code",
   "execution_count": 69,
   "metadata": {},
   "outputs": [],
   "source": [
    "def TTA(model, dl, dl_trs):\n",
    "    p = []\n",
    "    prob0, ys = pred(model, dl)\n",
    "    p.append(prob0)\n",
    "    for i in range(4):\n",
    "        prob, _ = pred(model, dl_trs)\n",
    "        p.append(prob)\n",
    "    p = np.stack(p)\n",
    "    probs = np.mean(p, axis=0)\n",
    "    auc = ave_auc2(probs, ys)\n",
    "    return auc"
   ]
  },
  {
   "cell_type": "code",
   "execution_count": 70,
   "metadata": {},
   "outputs": [
    {
     "data": {
      "text/plain": [
       "[0.8530174191856377,\n",
       " 0.8717840678129821,\n",
       " 0.8342503863679906,\n",
       " 0.8679520248407132]"
      ]
     },
     "execution_count": 70,
     "metadata": {},
     "output_type": "execute_result"
    }
   ],
   "source": [
    "aucs = [TTA(model, h_dl[i], h_dl_trs[i]) for i in range(4)]\n",
    "aucs"
   ]
  },
  {
   "cell_type": "code",
   "execution_count": 71,
   "metadata": {},
   "outputs": [
    {
     "data": {
      "text/plain": [
       "0.8567509745518309"
      ]
     },
     "execution_count": 71,
     "metadata": {},
     "output_type": "execute_result"
    }
   ],
   "source": [
    "np.mean(aucs)"
   ]
  },
  {
   "cell_type": "code",
   "execution_count": 56,
   "metadata": {},
   "outputs": [
    {
     "data": {
      "text/plain": [
       "0.8641337193027242"
      ]
     },
     "execution_count": 56,
     "metadata": {},
     "output_type": "execute_result"
    }
   ],
   "source": [
    "# this was with 0.001\n",
    "np.mean(aucs)"
   ]
  },
  {
   "cell_type": "code",
   "execution_count": 45,
   "metadata": {},
   "outputs": [
    {
     "data": {
      "text/plain": [
       "0.8600535970263844"
      ]
     },
     "execution_count": 45,
     "metadata": {},
     "output_type": "execute_result"
    }
   ],
   "source": [
    "np.mean(aucs)"
   ]
  },
  {
   "cell_type": "markdown",
   "metadata": {},
   "source": [
    "## Ensemble"
   ]
  },
  {
   "cell_type": "code",
   "execution_count": 130,
   "metadata": {},
   "outputs": [],
   "source": [
    "def read_model(path):\n",
    "    model = Net().cuda()\n",
    "    load_model(model, path)\n",
    "    return model"
   ]
  },
  {
   "cell_type": "code",
   "execution_count": 135,
   "metadata": {},
   "outputs": [],
   "source": [
    "paths = [\"models/model_1000_resnet34_\" + str(i) + \".pth\" for i in range(5)]\n",
    "paths = [PATH/path for path in paths]"
   ]
  },
  {
   "cell_type": "code",
   "execution_count": 136,
   "metadata": {},
   "outputs": [],
   "source": [
    "models = [read_model(path) for path in paths]"
   ]
  },
  {
   "cell_type": "code",
   "execution_count": 153,
   "metadata": {},
   "outputs": [],
   "source": [
    "def ensemble_pred(models, test_dl):\n",
    "    [model.eval() for model in models]\n",
    "    total = 0\n",
    "    sum_loss = 0\n",
    "    probs = []\n",
    "    ys = []\n",
    "    for x, y in test_dl:\n",
    "        x = x.cuda().float()\n",
    "        y = y.cuda().long()\n",
    "        out = torch.stack([model(x) for model in models])\n",
    "        out = outs.mean(dim=0)\n",
    "        probs.append(out.detach().cpu().numpy())\n",
    "        ys.append(y.cpu().numpy())\n",
    "    probs = np.vstack(probs)\n",
    "    ys = np.vstack(ys)\n",
    "    return probs, ys"
   ]
  },
  {
   "cell_type": "code",
   "execution_count": 152,
   "metadata": {},
   "outputs": [],
   "source": [
    "probs, ys = ensemble_pred(models, h_dl[0])"
   ]
  },
  {
   "cell_type": "code",
   "execution_count": 154,
   "metadata": {},
   "outputs": [
    {
     "data": {
      "text/plain": [
       "0.5160591881712794"
      ]
     },
     "execution_count": 154,
     "metadata": {},
     "output_type": "execute_result"
    }
   ],
   "source": [
    "ave_auc2(probs, ys)"
   ]
  },
  {
   "cell_type": "code",
   "execution_count": 156,
   "metadata": {},
   "outputs": [],
   "source": [
    "x,y = next(iter(h_dl[0]))\n",
    "x = x.cuda().float()\n",
    "out = torch.stack([model(x) for model in models])"
   ]
  },
  {
   "cell_type": "code",
   "execution_count": 158,
   "metadata": {},
   "outputs": [
    {
     "data": {
      "text/plain": [
       "torch.Size([16, 34])"
      ]
     },
     "execution_count": 158,
     "metadata": {},
     "output_type": "execute_result"
    }
   ],
   "source": [
    "outs.mean(dim=0).shape"
   ]
  },
  {
   "cell_type": "code",
   "execution_count": null,
   "metadata": {},
   "outputs": [],
   "source": []
  }
 ],
 "metadata": {
  "kernelspec": {
   "display_name": "Python 3",
   "language": "python",
   "name": "python3"
  },
  "language_info": {
   "codemirror_mode": {
    "name": "ipython",
    "version": 3
   },
   "file_extension": ".py",
   "mimetype": "text/x-python",
   "name": "python",
   "nbconvert_exporter": "python",
   "pygments_lexer": "ipython3",
   "version": "3.6.7"
  },
  "toc": {
   "nav_menu": {},
   "number_sections": true,
   "sideBar": true,
   "skip_h1_title": false,
   "toc_cell": false,
   "toc_position": {},
   "toc_section_display": "block",
   "toc_window_display": false
  }
 },
 "nbformat": 4,
 "nbformat_minor": 2
}
