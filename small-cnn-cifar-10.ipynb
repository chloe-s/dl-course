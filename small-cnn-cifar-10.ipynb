{
 "cells": [
  {
   "cell_type": "markdown",
   "metadata": {},
   "source": [
    "# Training CIFAR-10 on a small CNN\n",
    "\n",
    "https://arxiv.org/pdf/1412.6806.pdf"
   ]
  },
  {
   "cell_type": "code",
   "execution_count": 6,
   "metadata": {},
   "outputs": [],
   "source": [
    "%reload_ext autoreload\n",
    "%autoreload 2\n",
    "%matplotlib inline\n",
    "import matplotlib.pyplot as plt\n",
    "\n",
    "import numpy as np\n",
    "import pandas as pd\n",
    "\n",
    "from pathlib import Path\n",
    "from sklearn import metrics\n",
    "import random\n",
    "\n",
    "import torch\n",
    "from torch.utils.data import Dataset, DataLoader\n",
    "import torch.optim as optim\n",
    "import torch.nn as nn\n",
    "import torch.nn.functional as F\n",
    "from torchvision import datasets, models\n",
    "\n",
    "from datetime import datetime\n",
    "import cv2"
   ]
  },
  {
   "cell_type": "code",
   "execution_count": 7,
   "metadata": {},
   "outputs": [],
   "source": [
    "import os\n",
    "from tqdm import tqdm_notebook"
   ]
  },
  {
   "cell_type": "code",
   "execution_count": 8,
   "metadata": {},
   "outputs": [],
   "source": [
    "PATH = Path(\"/data2/yinterian/data/\")"
   ]
  },
  {
   "cell_type": "markdown",
   "metadata": {},
   "source": [
    "## Import data from torchvision\n",
    "\n",
    "If no transforms are provided, torchvision returns PIL objects"
   ]
  },
  {
   "cell_type": "code",
   "execution_count": 9,
   "metadata": {},
   "outputs": [
    {
     "name": "stdout",
     "output_type": "stream",
     "text": [
      "Downloading https://www.cs.toronto.edu/~kriz/cifar-10-python.tar.gz to /data2/yinterian/data/cifardata/cifar-10-python.tar.gz\n",
      "Files already downloaded and verified\n"
     ]
    }
   ],
   "source": [
    "train_set = datasets.CIFAR10(root=PATH/'cifardata', \n",
    "                                         train=True, download=True)\n",
    "test_set = datasets.CIFAR10(root=PATH/'cifardata', \n",
    "                                        train=False, download=True)\n",
    "test_set, valid_set = torch.utils.data.random_split(test_set,(5000,5000))"
   ]
  },
  {
   "cell_type": "code",
   "execution_count": 42,
   "metadata": {},
   "outputs": [
    {
     "data": {
      "text/plain": [
       "6"
      ]
     },
     "execution_count": 42,
     "metadata": {},
     "output_type": "execute_result"
    }
   ],
   "source": [
    "x, y = train_set[200]\n",
    "y"
   ]
  },
  {
   "cell_type": "code",
   "execution_count": 43,
   "metadata": {},
   "outputs": [
    {
     "data": {
      "text/plain": [
       "<matplotlib.image.AxesImage at 0x7fe9b87df748>"
      ]
     },
     "execution_count": 43,
     "metadata": {},
     "output_type": "execute_result"
    },
    {
     "data": {
      "image/png": "[encoded data removed]",
      "text/plain": [
       "<Figure size 432x288 with 1 Axes>"
      ]
     },
     "metadata": {
      "needs_background": "light"
     },
     "output_type": "display_data"
    }
   ],
   "source": [
    "plt.imshow(x)"
   ]
  },
  {
   "cell_type": "code",
   "execution_count": 44,
   "metadata": {},
   "outputs": [
    {
     "data": {
      "text/plain": [
       "(32, 32, 3)"
      ]
     },
     "execution_count": 44,
     "metadata": {},
     "output_type": "execute_result"
    }
   ],
   "source": [
    "x = np.array(x)\n",
    "x.shape"
   ]
  },
  {
   "cell_type": "code",
   "execution_count": 46,
   "metadata": {},
   "outputs": [],
   "source": [
    "pad = 4\n",
    "x = cv2.copyMakeBorder(x, pad, pad, pad, pad, cv2.BORDER_REFLECT)"
   ]
  },
  {
   "cell_type": "code",
   "execution_count": 48,
   "metadata": {},
   "outputs": [
    {
     "data": {
      "text/plain": [
       "(40, 40, 3)"
      ]
     },
     "execution_count": 48,
     "metadata": {},
     "output_type": "execute_result"
    },
    {
     "data": {
      "image/png": "[encoded data removed]",
      "text/plain": [
       "<Figure size 432x288 with 1 Axes>"
      ]
     },
     "metadata": {
      "needs_background": "light"
     },
     "output_type": "display_data"
    }
   ],
   "source": [
    "plt.imshow(x)\n",
    "x.shape"
   ]
  },
  {
   "cell_type": "markdown",
   "metadata": {
    "heading_collapsed": true
   },
   "source": [
    "## Preprocessing "
   ]
  },
  {
   "cell_type": "code",
   "execution_count": 52,
   "metadata": {
    "hidden": true
   },
   "outputs": [],
   "source": [
    "def read_image(path):\n",
    "    im = cv2.imread(str(path))\n",
    "    return cv2.cvtColor(im, cv2.COLOR_BGR2RGB)"
   ]
  },
  {
   "cell_type": "code",
   "execution_count": 177,
   "metadata": {
    "hidden": true
   },
   "outputs": [],
   "source": [
    "def get_base_path(path):\n",
    "    return os.path.split(path)[0] + \"/\""
   ]
  },
  {
   "cell_type": "code",
   "execution_count": 184,
   "metadata": {
    "hidden": true
   },
   "outputs": [],
   "source": [
    "df = pd.read_csv(PATH/\"MURA-v1.1/train_image_paths.csv\", header=None, names=[\"image_name\"])\n",
    "df2 = pd.read_csv(PATH/\"MURA-v1.1/train_labeled_studies.csv\", header=None, names=[\"path\", \"label\"])\n",
    "df[\"path\"] = df[\"image_name\"].apply(get_base_path)\n",
    "result = pd.merge(df, df2, on='path')\n",
    "result[\"image_id\"] = result.index\n",
    "result.to_csv(PATH/\"MURA-v1.1/train_path_labels.csv\")"
   ]
  },
  {
   "cell_type": "code",
   "execution_count": 185,
   "metadata": {
    "hidden": true
   },
   "outputs": [],
   "source": [
    "df3 = pd.read_csv(PATH/\"MURA-v1.1/valid_image_paths.csv\", header=None, names=[\"image_name\"])\n",
    "df4 = pd.read_csv(PATH/\"MURA-v1.1/valid_labeled_studies.csv\", header=None, names=[\"path\", \"label\"])\n",
    "df3[\"path\"] = df3[\"image_name\"].apply(get_base_path)\n",
    "result2 = pd.merge(df3, df4, on='path')\n",
    "result2[\"image_id\"] = result2.index\n",
    "result2.to_csv(PATH/\"MURA-v1.1/valid_path_labels.csv\")"
   ]
  },
  {
   "cell_type": "code",
   "execution_count": 187,
   "metadata": {
    "hidden": true
   },
   "outputs": [
    {
     "data": {
      "text/html": [
       "<div>\n",
       "<style scoped>\n",
       "    .dataframe tbody tr th:only-of-type {\n",
       "        vertical-align: middle;\n",
       "    }\n",
       "\n",
       "    .dataframe tbody tr th {\n",
       "        vertical-align: top;\n",
       "    }\n",
       "\n",
       "    .dataframe thead th {\n",
       "        text-align: right;\n",
       "    }\n",
       "</style>\n",
       "<table border=\"1\" class=\"dataframe\">\n",
       "  <thead>\n",
       "    <tr style=\"text-align: right;\">\n",
       "      <th></th>\n",
       "      <th>image_name</th>\n",
       "      <th>path</th>\n",
       "      <th>label</th>\n",
       "      <th>image_id</th>\n",
       "    </tr>\n",
       "  </thead>\n",
       "  <tbody>\n",
       "    <tr>\n",
       "      <th>0</th>\n",
       "      <td>MURA-v1.1/valid/XR_WRIST/patient11185/study1_p...</td>\n",
       "      <td>MURA-v1.1/valid/XR_WRIST/patient11185/study1_p...</td>\n",
       "      <td>1</td>\n",
       "      <td>0</td>\n",
       "    </tr>\n",
       "    <tr>\n",
       "      <th>1</th>\n",
       "      <td>MURA-v1.1/valid/XR_WRIST/patient11185/study1_p...</td>\n",
       "      <td>MURA-v1.1/valid/XR_WRIST/patient11185/study1_p...</td>\n",
       "      <td>1</td>\n",
       "      <td>1</td>\n",
       "    </tr>\n",
       "    <tr>\n",
       "      <th>2</th>\n",
       "      <td>MURA-v1.1/valid/XR_WRIST/patient11185/study1_p...</td>\n",
       "      <td>MURA-v1.1/valid/XR_WRIST/patient11185/study1_p...</td>\n",
       "      <td>1</td>\n",
       "      <td>2</td>\n",
       "    </tr>\n",
       "    <tr>\n",
       "      <th>3</th>\n",
       "      <td>MURA-v1.1/valid/XR_WRIST/patient11185/study1_p...</td>\n",
       "      <td>MURA-v1.1/valid/XR_WRIST/patient11185/study1_p...</td>\n",
       "      <td>1</td>\n",
       "      <td>3</td>\n",
       "    </tr>\n",
       "    <tr>\n",
       "      <th>4</th>\n",
       "      <td>MURA-v1.1/valid/XR_WRIST/patient11186/study1_p...</td>\n",
       "      <td>MURA-v1.1/valid/XR_WRIST/patient11186/study1_p...</td>\n",
       "      <td>1</td>\n",
       "      <td>4</td>\n",
       "    </tr>\n",
       "  </tbody>\n",
       "</table>\n",
       "</div>"
      ],
      "text/plain": [
       "                                          image_name  \\\n",
       "0  MURA-v1.1/valid/XR_WRIST/patient11185/study1_p...   \n",
       "1  MURA-v1.1/valid/XR_WRIST/patient11185/study1_p...   \n",
       "2  MURA-v1.1/valid/XR_WRIST/patient11185/study1_p...   \n",
       "3  MURA-v1.1/valid/XR_WRIST/patient11185/study1_p...   \n",
       "4  MURA-v1.1/valid/XR_WRIST/patient11186/study1_p...   \n",
       "\n",
       "                                                path  label  image_id  \n",
       "0  MURA-v1.1/valid/XR_WRIST/patient11185/study1_p...      1         0  \n",
       "1  MURA-v1.1/valid/XR_WRIST/patient11185/study1_p...      1         1  \n",
       "2  MURA-v1.1/valid/XR_WRIST/patient11185/study1_p...      1         2  \n",
       "3  MURA-v1.1/valid/XR_WRIST/patient11185/study1_p...      1         3  \n",
       "4  MURA-v1.1/valid/XR_WRIST/patient11186/study1_p...      1         4  "
      ]
     },
     "execution_count": 187,
     "metadata": {},
     "output_type": "execute_result"
    }
   ],
   "source": [
    "result2.head()"
   ]
  },
  {
   "cell_type": "code",
   "execution_count": 25,
   "metadata": {
    "hidden": true
   },
   "outputs": [],
   "source": [
    "sizes = [read_image(PATH/x).shape for x in df[\"image_name\"].values]"
   ]
  },
  {
   "cell_type": "code",
   "execution_count": 49,
   "metadata": {
    "hidden": true
   },
   "outputs": [
    {
     "data": {
      "text/plain": [
       "177.80700000000002"
      ]
     },
     "execution_count": 49,
     "metadata": {},
     "output_type": "execute_result"
    }
   ],
   "source": [
    "np.quantile([x[0] for x in sizes], 0.001)"
   ]
  },
  {
   "cell_type": "code",
   "execution_count": 28,
   "metadata": {
    "hidden": true
   },
   "outputs": [],
   "source": [
    "sz = {}\n",
    "for x in sizes:\n",
    "    sz[x] = sz.get(x, 0) + 1"
   ]
  },
  {
   "cell_type": "code",
   "execution_count": 32,
   "metadata": {
    "hidden": true
   },
   "outputs": [],
   "source": [
    "sz2 = {}\n",
    "for x in sizes:\n",
    "    ratio = x[0]/x[1]\n",
    "    key = str(round(ratio,1))\n",
    "    sz2[key] = sz2.get(key, 0) + 1"
   ]
  },
  {
   "cell_type": "code",
   "execution_count": 38,
   "metadata": {
    "hidden": true
   },
   "outputs": [],
   "source": [
    "x, y = [float(x) for x in sz2.keys()], sz2.values()"
   ]
  },
  {
   "cell_type": "code",
   "execution_count": 41,
   "metadata": {
    "hidden": true
   },
   "outputs": [
    {
     "data": {
      "text/plain": [
       "<BarContainer object of 50 artists>"
      ]
     },
     "execution_count": 41,
     "metadata": {},
     "output_type": "execute_result"
    },
    {
     "data": {
      "image/png": "[encoded data removed]",
      "text/plain": [
       "<Figure size 432x288 with 1 Axes>"
      ]
     },
     "metadata": {
      "needs_background": "light"
     },
     "output_type": "display_data"
    }
   ],
   "source": [
    "plt.bar(x, y)"
   ]
  },
  {
   "cell_type": "code",
   "execution_count": 56,
   "metadata": {
    "hidden": true
   },
   "outputs": [
    {
     "data": {
      "text/html": [
       "<div>\n",
       "<style scoped>\n",
       "    .dataframe tbody tr th:only-of-type {\n",
       "        vertical-align: middle;\n",
       "    }\n",
       "\n",
       "    .dataframe tbody tr th {\n",
       "        vertical-align: top;\n",
       "    }\n",
       "\n",
       "    .dataframe thead th {\n",
       "        text-align: right;\n",
       "    }\n",
       "</style>\n",
       "<table border=\"1\" class=\"dataframe\">\n",
       "  <thead>\n",
       "    <tr style=\"text-align: right;\">\n",
       "      <th></th>\n",
       "      <th>image_name</th>\n",
       "    </tr>\n",
       "  </thead>\n",
       "  <tbody>\n",
       "    <tr>\n",
       "      <th>0</th>\n",
       "      <td>MURA-v1.1/train/XR_SHOULDER/patient00001/study...</td>\n",
       "    </tr>\n",
       "    <tr>\n",
       "      <th>1</th>\n",
       "      <td>MURA-v1.1/train/XR_SHOULDER/patient00001/study...</td>\n",
       "    </tr>\n",
       "    <tr>\n",
       "      <th>2</th>\n",
       "      <td>MURA-v1.1/train/XR_SHOULDER/patient00001/study...</td>\n",
       "    </tr>\n",
       "    <tr>\n",
       "      <th>3</th>\n",
       "      <td>MURA-v1.1/train/XR_SHOULDER/patient00002/study...</td>\n",
       "    </tr>\n",
       "    <tr>\n",
       "      <th>4</th>\n",
       "      <td>MURA-v1.1/train/XR_SHOULDER/patient00002/study...</td>\n",
       "    </tr>\n",
       "  </tbody>\n",
       "</table>\n",
       "</div>"
      ],
      "text/plain": [
       "                                          image_name\n",
       "0  MURA-v1.1/train/XR_SHOULDER/patient00001/study...\n",
       "1  MURA-v1.1/train/XR_SHOULDER/patient00001/study...\n",
       "2  MURA-v1.1/train/XR_SHOULDER/patient00001/study...\n",
       "3  MURA-v1.1/train/XR_SHOULDER/patient00002/study...\n",
       "4  MURA-v1.1/train/XR_SHOULDER/patient00002/study..."
      ]
     },
     "execution_count": 56,
     "metadata": {},
     "output_type": "execute_result"
    }
   ],
   "source": [
    "df.head()"
   ]
  },
  {
   "cell_type": "code",
   "execution_count": 118,
   "metadata": {
    "hidden": true
   },
   "outputs": [
    {
     "data": {
      "text/plain": [
       "PosixPath('/data2/yinterian/mura/MURA-v1.1/train/XR_SHOULDER/patient00027/study1_positive/image1.png')"
      ]
     },
     "execution_count": 118,
     "metadata": {},
     "output_type": "execute_result"
    }
   ],
   "source": [
    "path = PATH/df[\"image_name\"].values[74]\n",
    "path"
   ]
  },
  {
   "cell_type": "code",
   "execution_count": 113,
   "metadata": {
    "hidden": true
   },
   "outputs": [
    {
     "data": {
      "text/plain": [
       "(512, 406, 3)"
      ]
     },
     "execution_count": 113,
     "metadata": {},
     "output_type": "execute_result"
    },
    {
     "data": {
      "image/png": "[encoded data removed]",
      "text/plain": [
       "<Figure size 432x288 with 1 Axes>"
      ]
     },
     "metadata": {
      "needs_background": "light"
     },
     "output_type": "display_data"
    }
   ],
   "source": [
    "im = read_image(path)\n",
    "plt.imshow(im)\n",
    "im.shape"
   ]
  },
  {
   "cell_type": "code",
   "execution_count": 120,
   "metadata": {
    "hidden": true
   },
   "outputs": [],
   "source": [
    "def get_a_crop(path, sz=(270, 350)):\n",
    "    im = cv2.imread(str(path))\n",
    "    r,c,_ = im.shape\n",
    "    ratio = r/c\n",
    "    if ratio > 1.3:\n",
    "        pad = int((r/1.3-c)/2)\n",
    "        im2 = cv2.copyMakeBorder(im, 0, 0, pad, pad, cv2.BORDER_CONSTANT)\n",
    "    else:\n",
    "        pad = int((1.3*c -r)/2)\n",
    "        im2 = cv2.copyMakeBorder(im, pad, pad , 0, 0, cv2.BORDER_CONSTANT)\n",
    "    return cv2.resize(im2, sz)"
   ]
  },
  {
   "cell_type": "code",
   "execution_count": 121,
   "metadata": {
    "hidden": true
   },
   "outputs": [
    {
     "data": {
      "text/plain": [
       "(350, 270, 3)"
      ]
     },
     "execution_count": 121,
     "metadata": {},
     "output_type": "execute_result"
    },
    {
     "data": {
      "image/png": "[encoded data removed]",
      "text/plain": [
       "<Figure size 432x288 with 1 Axes>"
      ]
     },
     "metadata": {
      "needs_background": "light"
     },
     "output_type": "display_data"
    }
   ],
   "source": [
    "im2 = get_a_crop(path)\n",
    "plt.imshow(im2)\n",
    "im2.shape"
   ]
  },
  {
   "cell_type": "code",
   "execution_count": 194,
   "metadata": {
    "hidden": true
   },
   "outputs": [],
   "source": [
    "from os import listdir\n",
    "from os.path import join\n",
    "def resize_all_images(df, new_dir):\n",
    "    for i in range(len(df)):\n",
    "        row = df.iloc[i,:]\n",
    "        f = PATH/row[\"image_name\"]\n",
    "        img = get_a_crop(f)\n",
    "        new_path = new_dir/\"image-{}.png\".format(row[\"image_id\"])\n",
    "        cv2.imwrite(str(new_path), img)"
   ]
  },
  {
   "cell_type": "code",
   "execution_count": 195,
   "metadata": {
    "hidden": true
   },
   "outputs": [
    {
     "data": {
      "text/html": [
       "<div>\n",
       "<style scoped>\n",
       "    .dataframe tbody tr th:only-of-type {\n",
       "        vertical-align: middle;\n",
       "    }\n",
       "\n",
       "    .dataframe tbody tr th {\n",
       "        vertical-align: top;\n",
       "    }\n",
       "\n",
       "    .dataframe thead th {\n",
       "        text-align: right;\n",
       "    }\n",
       "</style>\n",
       "<table border=\"1\" class=\"dataframe\">\n",
       "  <thead>\n",
       "    <tr style=\"text-align: right;\">\n",
       "      <th></th>\n",
       "      <th>Unnamed: 0</th>\n",
       "      <th>image_name</th>\n",
       "      <th>path</th>\n",
       "      <th>label</th>\n",
       "      <th>image_id</th>\n",
       "    </tr>\n",
       "  </thead>\n",
       "  <tbody>\n",
       "    <tr>\n",
       "      <th>0</th>\n",
       "      <td>0</td>\n",
       "      <td>MURA-v1.1/train/XR_SHOULDER/patient00001/study...</td>\n",
       "      <td>MURA-v1.1/train/XR_SHOULDER/patient00001/study...</td>\n",
       "      <td>1</td>\n",
       "      <td>0</td>\n",
       "    </tr>\n",
       "    <tr>\n",
       "      <th>1</th>\n",
       "      <td>1</td>\n",
       "      <td>MURA-v1.1/train/XR_SHOULDER/patient00001/study...</td>\n",
       "      <td>MURA-v1.1/train/XR_SHOULDER/patient00001/study...</td>\n",
       "      <td>1</td>\n",
       "      <td>1</td>\n",
       "    </tr>\n",
       "    <tr>\n",
       "      <th>2</th>\n",
       "      <td>2</td>\n",
       "      <td>MURA-v1.1/train/XR_SHOULDER/patient00001/study...</td>\n",
       "      <td>MURA-v1.1/train/XR_SHOULDER/patient00001/study...</td>\n",
       "      <td>1</td>\n",
       "      <td>2</td>\n",
       "    </tr>\n",
       "    <tr>\n",
       "      <th>3</th>\n",
       "      <td>3</td>\n",
       "      <td>MURA-v1.1/train/XR_SHOULDER/patient00002/study...</td>\n",
       "      <td>MURA-v1.1/train/XR_SHOULDER/patient00002/study...</td>\n",
       "      <td>1</td>\n",
       "      <td>3</td>\n",
       "    </tr>\n",
       "  </tbody>\n",
       "</table>\n",
       "</div>"
      ],
      "text/plain": [
       "   Unnamed: 0                                         image_name  \\\n",
       "0           0  MURA-v1.1/train/XR_SHOULDER/patient00001/study...   \n",
       "1           1  MURA-v1.1/train/XR_SHOULDER/patient00001/study...   \n",
       "2           2  MURA-v1.1/train/XR_SHOULDER/patient00001/study...   \n",
       "3           3  MURA-v1.1/train/XR_SHOULDER/patient00002/study...   \n",
       "\n",
       "                                                path  label  image_id  \n",
       "0  MURA-v1.1/train/XR_SHOULDER/patient00001/study...      1         0  \n",
       "1  MURA-v1.1/train/XR_SHOULDER/patient00001/study...      1         1  \n",
       "2  MURA-v1.1/train/XR_SHOULDER/patient00001/study...      1         2  \n",
       "3  MURA-v1.1/train/XR_SHOULDER/patient00002/study...      1         3  "
      ]
     },
     "execution_count": 195,
     "metadata": {},
     "output_type": "execute_result"
    }
   ],
   "source": [
    "df = pd.read_csv(PATH/\"MURA-v1.1/train_path_labels.csv\")\n",
    "df[:4]"
   ]
  },
  {
   "cell_type": "code",
   "execution_count": 196,
   "metadata": {
    "hidden": true
   },
   "outputs": [],
   "source": [
    "#resize_all_images(df, PATH/\"train_350_270\")"
   ]
  },
  {
   "cell_type": "code",
   "execution_count": 197,
   "metadata": {
    "hidden": true
   },
   "outputs": [],
   "source": [
    "df2 = pd.read_csv(PATH/\"MURA-v1.1/valid_path_labels.csv\")\n",
    "#resize_all_images(df2, PATH/\"valid_350_270\")"
   ]
  },
  {
   "cell_type": "code",
   "execution_count": null,
   "metadata": {
    "hidden": true
   },
   "outputs": [],
   "source": [
    "df = pd.read_csv(PATH/\"MURA-v1.1/train_image_paths.csv\", header=None, names=[\"image_name\"])"
   ]
  },
  {
   "cell_type": "code",
   "execution_count": 123,
   "metadata": {
    "hidden": true
   },
   "outputs": [
    {
     "data": {
      "text/plain": [
       "PosixPath('/data2/yinterian/mura')"
      ]
     },
     "execution_count": 123,
     "metadata": {},
     "output_type": "execute_result"
    }
   ],
   "source": [
    "PATH"
   ]
  },
  {
   "cell_type": "code",
   "execution_count": 116,
   "metadata": {
    "hidden": true
   },
   "outputs": [
    {
     "data": {
      "text/plain": [
       "1.2610837438423645"
      ]
     },
     "execution_count": 116,
     "metadata": {},
     "output_type": "execute_result"
    }
   ],
   "source": [
    "512/406"
   ]
  },
  {
   "cell_type": "code",
   "execution_count": 85,
   "metadata": {
    "hidden": true
   },
   "outputs": [
    {
     "data": {
      "text/plain": [
       "1.257985257985258"
      ]
     },
     "execution_count": 85,
     "metadata": {},
     "output_type": "execute_result"
    }
   ],
   "source": [
    "512/407"
   ]
  },
  {
   "cell_type": "code",
   "execution_count": 82,
   "metadata": {
    "hidden": true
   },
   "outputs": [
    {
     "data": {
      "text/plain": [
       "14.846153846153811"
      ]
     },
     "execution_count": 82,
     "metadata": {},
     "output_type": "execute_result"
    }
   ],
   "source": [
    "r/1.3-c"
   ]
  },
  {
   "cell_type": "markdown",
   "metadata": {},
   "source": [
    "## Random transforms"
   ]
  },
  {
   "cell_type": "code",
   "execution_count": 24,
   "metadata": {},
   "outputs": [],
   "source": [
    "def crop(im, r, c, target_r, target_c): return im[r:r+target_r, c:c+target_c]\n",
    "\n",
    "def random_crop(x, r_pix=4):\n",
    "    \"\"\" Returns a random crop\"\"\"\n",
    "    r, c,*_ = x.shape\n",
    "    r, c,*_ = x.shape\n",
    "    c_pix = round(r_pix*c/r)\n",
    "    rand_r = random.uniform(0, 1)\n",
    "    rand_c = random.uniform(0, 1)\n",
    "    start_r = np.floor(2*rand_r*r_pix).astype(int)\n",
    "    start_c = np.floor(2*rand_c*c_pix).astype(int)\n",
    "    return crop(x, start_r, start_c, r-2*r_pix, c-2*c_pix)\n",
    "\n",
    "def center_crop(x, r_pix=4):\n",
    "    r, c,*_ = x.shape\n",
    "    c_pix = round(r_pix*c/r)\n",
    "    return crop(x, r_pix, c_pix, r-2*r_pix, c-2*c_pix)\n",
    "\n",
    "\n",
    "def rotate_cv(im, deg, mode=cv2.BORDER_REFLECT, interpolation=cv2.INTER_AREA):\n",
    "    \"\"\" Rotates an image by deg degrees\"\"\"\n",
    "    r,c,*_ = im.shape\n",
    "    M = cv2.getRotationMatrix2D((c/2,r/2),deg,1)\n",
    "    return cv2.warpAffine(im,M,(c,r), borderMode=mode, \n",
    "                          flags=cv2.WARP_FILL_OUTLIERS+interpolation)"
   ]
  },
  {
   "cell_type": "markdown",
   "metadata": {},
   "source": [
    "## Dataset"
   ]
  },
  {
   "cell_type": "code",
   "execution_count": 91,
   "metadata": {},
   "outputs": [],
   "source": [
    "class CIFAR10(Dataset):\n",
    "    \"\"\"\n",
    "    Basic Images DataSet\n",
    "    Args:\n",
    "        dataset: dataset with data\n",
    "        transform: True for training otherwise False\n",
    "    \"\"\"\n",
    "\n",
    "    def __init__(self, dataset, transform=False):\n",
    "        self.dataset = dataset\n",
    "        self.transform = transform\n",
    "\n",
    "    def __getitem__(self, index):\n",
    "        img, y = self.dataset[index]\n",
    "        x = np.array(img) / 255\n",
    "        if self.transform:\n",
    "            pad = 4\n",
    "            x = cv2.copyMakeBorder(x, pad, pad, pad, pad, cv2.BORDER_REFLECT)\n",
    "            x = random_crop(x)\n",
    "            if np.random.random() > 0.5: x = np.fliplr(x).copy()\n",
    "        \n",
    "        return np.rollaxis(x, 2), y\n",
    "\n",
    "    def __len__(self):\n",
    "        return len(self.dataset)"
   ]
  },
  {
   "cell_type": "code",
   "execution_count": 224,
   "metadata": {},
   "outputs": [],
   "source": [
    "train_ds = CIFAR10(train_set, transform=True)\n",
    "valid_ds = CIFAR10(valid_set)\n",
    "test_ds = CIFAR10(test_set)"
   ]
  },
  {
   "cell_type": "code",
   "execution_count": 133,
   "metadata": {},
   "outputs": [],
   "source": [
    "batch_size = 5\n",
    "train_dl = DataLoader(train_ds, batch_size=batch_size,  shuffle=True)\n",
    "valid_dl = DataLoader(valid_ds, batch_size=batch_size)"
   ]
  },
  {
   "cell_type": "code",
   "execution_count": 134,
   "metadata": {},
   "outputs": [
    {
     "data": {
      "text/plain": [
       "(3, 32, 32)"
      ]
     },
     "execution_count": 134,
     "metadata": {},
     "output_type": "execute_result"
    }
   ],
   "source": [
    "x, y = train_ds[0]\n",
    "x.shape"
   ]
  },
  {
   "cell_type": "code",
   "execution_count": 135,
   "metadata": {},
   "outputs": [
    {
     "data": {
      "text/plain": [
       "(3, 32, 32)"
      ]
     },
     "execution_count": 135,
     "metadata": {},
     "output_type": "execute_result"
    }
   ],
   "source": [
    "x, y = valid_ds[0]\n",
    "x.shape"
   ]
  },
  {
   "cell_type": "markdown",
   "metadata": {},
   "source": [
    "## Model \n",
    "\n",
    "AllConvNet is taken from the paper https://arxiv.org/pdf/1412.6806.pdf. It is a all convolution network that replaces max_pooling with stride2 convolutions. I added Batchnorm to every layer."
   ]
  },
  {
   "cell_type": "code",
   "execution_count": 221,
   "metadata": {},
   "outputs": [],
   "source": [
    "class AllConvNet(nn.Module):\n",
    "    def __init__(self, nc=3, n_classes=10, **kwargs):\n",
    "        super(AllConvNet, self).__init__()\n",
    "        self.conv1 = nn.Conv2d(nc, 96, 3, padding=1)\n",
    "        self.conv2 = nn.Conv2d(96, 96, 3, padding=1)\n",
    "        self.conv3 = nn.Conv2d(96, 96, 3, padding=1, stride=2)\n",
    "        self.conv4 = nn.Conv2d(96, 192, 3, padding=1)\n",
    "        self.conv5 = nn.Conv2d(192, 192, 3, padding=1)\n",
    "        self.conv6 = nn.Conv2d(192, 192, 3, padding=1, stride=2)\n",
    "        self.conv7 = nn.Conv2d(192, 192, 3, padding=1)\n",
    "        self.conv8 = nn.Conv2d(192, 192, 1)\n",
    "\n",
    "        self.bn1 = nn.BatchNorm2d(96)\n",
    "        self.bn2 = nn.BatchNorm2d(96)\n",
    "        self.bn3 = nn.BatchNorm2d(96)\n",
    "        self.bn4 = nn.BatchNorm2d(192)\n",
    "        self.bn5 = nn.BatchNorm2d(192)\n",
    "        self.bn6 = nn.BatchNorm2d(192)\n",
    "        self.bn7 = nn.BatchNorm2d(192)\n",
    "        self.bn8 = nn.BatchNorm2d(192)\n",
    "        self.bn9 = nn.BatchNorm2d(n_classes)\n",
    "        \n",
    "        self.class_conv = nn.Conv2d(192, n_classes, 1)\n",
    "\n",
    "    def forward(self, x):\n",
    "        #x = F.dropout(x, .1)\n",
    "        x = F.relu(self.bn1(self.conv1(x)))\n",
    "        x = F.relu(self.bn2(self.conv2(x)))\n",
    "        x = F.relu(self.bn3(self.conv3(x)))\n",
    "        x = F.dropout(x, .1)\n",
    "        x = F.relu(self.bn4(self.conv4(x)))\n",
    "        x = F.relu(self.bn5(self.conv5(x)))\n",
    "        x = F.relu(self.bn6(self.conv6(x)))\n",
    "        x = F.dropout(x, .1)\n",
    "        x = F.relu(self.bn7(self.conv7(x)))\n",
    "        x = F.relu(self.bn8(self.conv8(x)))\n",
    "\n",
    "        class_out = F.relu(self.bn9(self.class_conv(x)))\n",
    "        pool_out = F.adaptive_avg_pool2d(class_out, 1)\n",
    "        pool_out.squeeze_(-1)\n",
    "        pool_out.squeeze_(-1)\n",
    "        return pool_out"
   ]
  },
  {
   "cell_type": "code",
   "execution_count": 197,
   "metadata": {},
   "outputs": [],
   "source": [
    "model = AllConvNet().cuda()"
   ]
  },
  {
   "cell_type": "code",
   "execution_count": 198,
   "metadata": {},
   "outputs": [],
   "source": [
    "x,y = next(iter(train_dl))\n",
    "x = x.float().cuda()\n",
    "y = y.cuda()"
   ]
  },
  {
   "cell_type": "code",
   "execution_count": 199,
   "metadata": {},
   "outputs": [
    {
     "data": {
      "text/plain": [
       "tensor([[0.0689, 0.0245, 0.0113,  ..., 0.0000, 0.0000, 0.0000],\n",
       "        [0.0685, 0.0242, 0.0119,  ..., 0.0000, 0.0000, 0.0000],\n",
       "        [0.0693, 0.0241, 0.0117,  ..., 0.0000, 0.0000, 0.0000],\n",
       "        ...,\n",
       "        [0.0695, 0.0241, 0.0124,  ..., 0.0000, 0.0000, 0.0000],\n",
       "        [0.0693, 0.0243, 0.0119,  ..., 0.0000, 0.0000, 0.0000],\n",
       "        [0.0691, 0.0243, 0.0114,  ..., 0.0000, 0.0000, 0.0000]],\n",
       "       device='cuda:0', grad_fn=<SqueezeBackward3>)"
      ]
     },
     "execution_count": 199,
     "metadata": {},
     "output_type": "execute_result"
    }
   ],
   "source": [
    "# soft predictions\n",
    "pred = model(x)\n",
    "pred"
   ]
  },
  {
   "cell_type": "code",
   "execution_count": 159,
   "metadata": {},
   "outputs": [
    {
     "data": {
      "text/plain": [
       "torch.Size([5])"
      ]
     },
     "execution_count": 159,
     "metadata": {},
     "output_type": "execute_result"
    }
   ],
   "source": [
    "# hard predcitions\n",
    "_, hard_pred = torch.max(pred, 1)\n",
    "hard_pred.shape"
   ]
  },
  {
   "cell_type": "code",
   "execution_count": 152,
   "metadata": {},
   "outputs": [
    {
     "data": {
      "text/plain": [
       "2.3199639320373535"
      ]
     },
     "execution_count": 152,
     "metadata": {},
     "output_type": "execute_result"
    }
   ],
   "source": [
    "F.cross_entropy(pred, y).item()"
   ]
  },
  {
   "cell_type": "code",
   "execution_count": 160,
   "metadata": {},
   "outputs": [
    {
     "data": {
      "text/plain": [
       "tensor(0, device='cuda:0')"
      ]
     },
     "execution_count": 160,
     "metadata": {},
     "output_type": "execute_result"
    }
   ],
   "source": [
    "# correctly classified\n",
    "(hard_pred == y).sum()"
   ]
  },
  {
   "cell_type": "markdown",
   "metadata": {},
   "source": [
    "## Metric: accuracy"
   ]
  },
  {
   "cell_type": "code",
   "execution_count": 154,
   "metadata": {},
   "outputs": [],
   "source": [
    "batch_size = 128\n",
    "train_dl = DataLoader(train_ds, batch_size=batch_size,  shuffle=True)\n",
    "valid_dl = DataLoader(valid_ds, batch_size=batch_size)"
   ]
  },
  {
   "cell_type": "code",
   "execution_count": 163,
   "metadata": {},
   "outputs": [],
   "source": [
    "def val_metric(model, valid_dl):\n",
    "    model.eval()\n",
    "    total = 0\n",
    "    sum_loss = 0\n",
    "    correct = 0\n",
    "    for x, y in valid_dl:\n",
    "        batch = y.shape[0]\n",
    "        x = x.cuda().float()\n",
    "        y = y.cuda().long()\n",
    "        pred = model(x)\n",
    "        loss = F.cross_entropy(pred, y)\n",
    "        _, hard_pred = torch.max(pred, 1)\n",
    "        correct += (hard_pred == y).sum()\n",
    "        sum_loss += batch*(loss.item())\n",
    "        total += batch\n",
    "    \n",
    "    return sum_loss/total, correct.item()/total"
   ]
  },
  {
   "cell_type": "code",
   "execution_count": 164,
   "metadata": {},
   "outputs": [
    {
     "data": {
      "text/plain": [
       "(2.303215809249878, 0.0992)"
      ]
     },
     "execution_count": 164,
     "metadata": {},
     "output_type": "execute_result"
    }
   ],
   "source": [
    "val_metric(model, valid_dl)"
   ]
  },
  {
   "cell_type": "markdown",
   "metadata": {},
   "source": [
    "## Training functions"
   ]
  },
  {
   "cell_type": "code",
   "execution_count": 165,
   "metadata": {},
   "outputs": [],
   "source": [
    "def cosine_segment(start_lr, end_lr, iterations):\n",
    "    i = np.arange(iterations)\n",
    "    c_i = 1 + np.cos(i*np.pi/iterations)\n",
    "    return end_lr + (start_lr - end_lr)/2 *c_i\n",
    "\n",
    "def get_cosine_triangular_lr(max_lr, iterations):\n",
    "    min_start, min_end = max_lr/25, max_lr/(25*1e4)\n",
    "    iter1 = int(0.3*iterations)\n",
    "    iter2 = iterations - iter1\n",
    "    segs = [cosine_segment(min_start, max_lr, iter1), cosine_segment(max_lr, min_end, iter2)]\n",
    "    return np.concatenate(segs)"
   ]
  },
  {
   "cell_type": "code",
   "execution_count": 166,
   "metadata": {},
   "outputs": [
    {
     "data": {
      "image/png": "[encoded data removed]",
      "text/plain": [
       "<Figure size 432x288 with 1 Axes>"
      ]
     },
     "metadata": {
      "needs_background": "light"
     },
     "output_type": "display_data"
    }
   ],
   "source": [
    "N = 2000\n",
    "lr = get_cosine_triangular_lr(0.001, N)\n",
    "plt.plot(list(range(N)), lr)\n",
    "plt.show()"
   ]
  },
  {
   "cell_type": "code",
   "execution_count": 173,
   "metadata": {},
   "outputs": [],
   "source": [
    "def create_optimizer(model, lr):\n",
    "    optimizer = torch.optim.Adam(model.parameters(), lr=lr)\n",
    "    return optimizer\n",
    "\n",
    "def update_optimizer(optimizer, lr):\n",
    "    for i, param_group in enumerate(optimizer.param_groups):\n",
    "        param_group[\"lr\"] = lr"
   ]
  },
  {
   "cell_type": "code",
   "execution_count": 186,
   "metadata": {},
   "outputs": [],
   "source": [
    "def train_triangular_policy(model, train_dl, valid_dl, max_lr=0.01, epochs = 5):\n",
    "    idx = 0\n",
    "    iterations = epochs*len(train_dl)\n",
    "    lrs = get_cosine_triangular_lr(max_lr, iterations)\n",
    "    optimizer = create_optimizer(model, lrs[0])\n",
    "    prev_val_auc = 0.0\n",
    "    for i in range(epochs):\n",
    "        model.train()\n",
    "        total = 0\n",
    "        sum_loss = 0\n",
    "        for x, y in train_dl:\n",
    "            update_optimizer(optimizer, lrs[idx])\n",
    "            batch = y.shape[0]\n",
    "            x = x.cuda().float()\n",
    "            y = y.cuda()\n",
    "            out = model(x)\n",
    "            loss = F.cross_entropy(out, y)\n",
    "            optimizer.zero_grad()\n",
    "            loss.backward()\n",
    "            optimizer.step()\n",
    "            idx += 1\n",
    "            total += batch\n",
    "            sum_loss += batch*(loss.item())\n",
    "        train_loss = sum_loss/total\n",
    "        val_loss, val_acc = val_metric(model, valid_dl)\n",
    "        print(\"train_loss %.3f val_loss %.3f val_acc %.3f\" % \n",
    "              (train_loss, val_loss, val_acc))\n",
    "    return sum_loss/total"
   ]
  },
  {
   "cell_type": "code",
   "execution_count": 177,
   "metadata": {},
   "outputs": [],
   "source": [
    "def save_model(m, p): torch.save(m.state_dict(), p)\n",
    "    \n",
    "def load_model(m, p): m.load_state_dict(torch.load(p))\n",
    "\n",
    "def LR_range_finder(model, train_dl, lr_low=1e-4, lr_high=0.1, epochs=2):\n",
    "    losses = []\n",
    "    p = PATH/\"mode_tmp.pth\"\n",
    "    save_model(model, str(p))\n",
    "    iterations = epochs * len(train_dl)\n",
    "    delta = (lr_high - lr_low)/iterations\n",
    "    lrs = [lr_low + i*delta for i in range(iterations)]\n",
    "    optimizer = create_optimizer(model, lrs[0])\n",
    "    model.train()\n",
    "    ind = 0\n",
    "    prev_loss = 0\n",
    "    for i in range(epochs):\n",
    "        for x,y in train_dl:\n",
    "            lr = lrs[ind]\n",
    "            update_optimizer(optimizer, lr)\n",
    "            x = x.cuda().float()\n",
    "            y = y.cuda()\n",
    "            out = model(x)\n",
    "            loss = F.cross_entropy(out, y)\n",
    "            optimizer.zero_grad()\n",
    "            loss.backward()\n",
    "            optimizer.step()\n",
    "            losses.append((prev_loss + loss.item())/2)\n",
    "            prev_loss = loss.item()\n",
    "            ind +=1\n",
    "            \n",
    "    load_model(model, str(p))\n",
    "    return lrs[1:], losses[1:]"
   ]
  },
  {
   "cell_type": "code",
   "execution_count": 178,
   "metadata": {},
   "outputs": [],
   "source": [
    "model = AllConvNet().cuda()\n",
    "lrs, losses = LR_range_finder(model, train_dl, lr_high=0.01)"
   ]
  },
  {
   "cell_type": "code",
   "execution_count": 180,
   "metadata": {},
   "outputs": [
    {
     "data": {
      "image/png": "[encoded data removed]",
      "text/plain": [
       "<Figure size 432x288 with 1 Axes>"
      ]
     },
     "metadata": {
      "needs_background": "light"
     },
     "output_type": "display_data"
    }
   ],
   "source": [
    "plt.plot(lrs, losses)\n",
    "plt.show()"
   ]
  },
  {
   "cell_type": "markdown",
   "metadata": {},
   "source": [
    "## Run Training"
   ]
  },
  {
   "cell_type": "code",
   "execution_count": 213,
   "metadata": {},
   "outputs": [
    {
     "name": "stdout",
     "output_type": "stream",
     "text": [
      "train_loss 1.852 val_loss 1.664 val_acc 0.444\n",
      "train_loss 1.167 val_loss 1.550 val_acc 0.468\n",
      "train_loss 0.853 val_loss 0.991 val_acc 0.669\n",
      "train_loss 0.660 val_loss 0.657 val_acc 0.775\n",
      "train_loss 0.547 val_loss 0.540 val_acc 0.815\n",
      "train_loss 0.445 val_loss 0.440 val_acc 0.854\n",
      "train_loss 0.367 val_loss 0.371 val_acc 0.869\n",
      "train_loss 0.322 val_loss 0.362 val_acc 0.876\n"
     ]
    },
    {
     "data": {
      "text/plain": [
       "0.32197575662612915"
      ]
     },
     "execution_count": 213,
     "metadata": {},
     "output_type": "execute_result"
    }
   ],
   "source": [
    "# excluding top dropout\n",
    "model = AllConvNet().cuda()\n",
    "train_triangular_policy(model, train_dl, valid_dl, max_lr=0.01, epochs = 8)"
   ]
  },
  {
   "cell_type": "code",
   "execution_count": 215,
   "metadata": {},
   "outputs": [
    {
     "name": "stdout",
     "output_type": "stream",
     "text": [
      "train_loss 1.704 val_loss 1.982 val_acc 0.362\n",
      "train_loss 1.137 val_loss 1.167 val_acc 0.606\n",
      "train_loss 0.822 val_loss 0.942 val_acc 0.679\n",
      "train_loss 0.634 val_loss 0.795 val_acc 0.733\n",
      "train_loss 0.524 val_loss 0.606 val_acc 0.796\n",
      "train_loss 0.418 val_loss 0.409 val_acc 0.866\n",
      "train_loss 0.339 val_loss 0.340 val_acc 0.888\n",
      "train_loss 0.286 val_loss 0.326 val_acc 0.891\n"
     ]
    },
    {
     "data": {
      "text/plain": [
       "0.2862458397483826"
      ]
     },
     "execution_count": 215,
     "metadata": {},
     "output_type": "execute_result"
    }
   ],
   "source": [
    "# no drop out\n",
    "model = AllConvNet().cuda()\n",
    "train_triangular_policy(model, train_dl, valid_dl, max_lr=0.01, epochs = 8)"
   ]
  },
  {
   "cell_type": "code",
   "execution_count": 216,
   "metadata": {},
   "outputs": [
    {
     "name": "stdout",
     "output_type": "stream",
     "text": [
      "train_loss 1.875 val_loss 1.808 val_acc 0.402\n",
      "train_loss 1.198 val_loss 1.088 val_acc 0.638\n",
      "train_loss 0.837 val_loss 0.845 val_acc 0.716\n",
      "train_loss 0.650 val_loss 0.711 val_acc 0.762\n",
      "train_loss 0.544 val_loss 0.557 val_acc 0.806\n",
      "train_loss 0.455 val_loss 0.530 val_acc 0.815\n",
      "train_loss 0.383 val_loss 0.403 val_acc 0.867\n",
      "train_loss 0.311 val_loss 0.350 val_acc 0.880\n",
      "train_loss 0.256 val_loss 0.306 val_acc 0.901\n",
      "train_loss 0.224 val_loss 0.291 val_acc 0.902\n"
     ]
    },
    {
     "data": {
      "text/plain": [
       "0.22432616320610047"
      ]
     },
     "execution_count": 216,
     "metadata": {},
     "output_type": "execute_result"
    }
   ],
   "source": [
    "model = AllConvNet().cuda()\n",
    "train_triangular_policy(model, train_dl, valid_dl, max_lr=0.01, epochs = 10)"
   ]
  },
  {
   "cell_type": "code",
   "execution_count": 217,
   "metadata": {},
   "outputs": [
    {
     "name": "stdout",
     "output_type": "stream",
     "text": [
      "train_loss 1.845 val_loss 1.621 val_acc 0.529\n",
      "train_loss 1.293 val_loss 1.523 val_acc 0.480\n",
      "train_loss 0.908 val_loss 1.088 val_acc 0.634\n",
      "train_loss 0.711 val_loss 0.935 val_acc 0.691\n",
      "train_loss 0.596 val_loss 0.625 val_acc 0.791\n",
      "train_loss 0.510 val_loss 0.526 val_acc 0.819\n",
      "train_loss 0.445 val_loss 0.536 val_acc 0.822\n",
      "train_loss 0.384 val_loss 0.603 val_acc 0.796\n",
      "train_loss 0.342 val_loss 0.422 val_acc 0.862\n",
      "train_loss 0.292 val_loss 0.347 val_acc 0.881\n",
      "train_loss 0.247 val_loss 0.311 val_acc 0.895\n",
      "train_loss 0.206 val_loss 0.291 val_acc 0.905\n",
      "train_loss 0.168 val_loss 0.263 val_acc 0.913\n",
      "train_loss 0.145 val_loss 0.257 val_acc 0.914\n",
      "train_loss 0.133 val_loss 0.254 val_acc 0.916\n"
     ]
    },
    {
     "data": {
      "text/plain": [
       "0.13341955620765686"
      ]
     },
     "execution_count": 217,
     "metadata": {},
     "output_type": "execute_result"
    }
   ],
   "source": [
    "model = AllConvNet().cuda()\n",
    "train_triangular_policy(model, train_dl, valid_dl, max_lr=0.01, epochs = 15)"
   ]
  },
  {
   "cell_type": "code",
   "execution_count": 218,
   "metadata": {},
   "outputs": [
    {
     "name": "stdout",
     "output_type": "stream",
     "text": [
      "train_loss 1.748 val_loss 1.626 val_acc 0.500\n",
      "train_loss 1.318 val_loss 1.223 val_acc 0.625\n",
      "train_loss 0.994 val_loss 1.321 val_acc 0.582\n",
      "train_loss 0.774 val_loss 0.928 val_acc 0.681\n",
      "train_loss 0.652 val_loss 0.886 val_acc 0.706\n",
      "train_loss 0.571 val_loss 0.795 val_acc 0.730\n",
      "train_loss 0.501 val_loss 0.763 val_acc 0.749\n",
      "train_loss 0.456 val_loss 0.573 val_acc 0.807\n",
      "train_loss 0.409 val_loss 0.756 val_acc 0.747\n",
      "train_loss 0.379 val_loss 0.520 val_acc 0.826\n",
      "train_loss 0.338 val_loss 0.444 val_acc 0.848\n",
      "train_loss 0.311 val_loss 0.457 val_acc 0.846\n",
      "train_loss 0.283 val_loss 0.429 val_acc 0.856\n",
      "train_loss 0.258 val_loss 0.350 val_acc 0.881\n",
      "train_loss 0.226 val_loss 0.387 val_acc 0.876\n",
      "train_loss 0.202 val_loss 0.344 val_acc 0.888\n",
      "train_loss 0.171 val_loss 0.300 val_acc 0.906\n",
      "train_loss 0.147 val_loss 0.298 val_acc 0.907\n",
      "train_loss 0.125 val_loss 0.262 val_acc 0.918\n",
      "train_loss 0.105 val_loss 0.250 val_acc 0.924\n",
      "train_loss 0.087 val_loss 0.240 val_acc 0.924\n",
      "train_loss 0.073 val_loss 0.241 val_acc 0.925\n",
      "train_loss 0.063 val_loss 0.243 val_acc 0.926\n",
      "train_loss 0.057 val_loss 0.238 val_acc 0.928\n",
      "train_loss 0.054 val_loss 0.238 val_acc 0.927\n"
     ]
    },
    {
     "data": {
      "text/plain": [
       "0.05406121232509613"
      ]
     },
     "execution_count": 218,
     "metadata": {},
     "output_type": "execute_result"
    }
   ],
   "source": [
    "# with no dropout\n",
    "# this has the same error as the paper\n",
    "model = AllConvNet().cuda()\n",
    "train_triangular_policy(model, train_dl, valid_dl, max_lr=0.01, epochs = 25)"
   ]
  },
  {
   "cell_type": "code",
   "execution_count": 222,
   "metadata": {},
   "outputs": [
    {
     "name": "stdout",
     "output_type": "stream",
     "text": [
      "train_loss 1.947 val_loss 1.802 val_acc 0.421\n",
      "train_loss 1.468 val_loss 1.505 val_acc 0.509\n",
      "train_loss 1.064 val_loss 1.286 val_acc 0.584\n",
      "train_loss 0.818 val_loss 1.079 val_acc 0.661\n",
      "train_loss 0.679 val_loss 0.724 val_acc 0.766\n",
      "train_loss 0.596 val_loss 1.384 val_acc 0.552\n",
      "train_loss 0.528 val_loss 0.721 val_acc 0.761\n",
      "train_loss 0.473 val_loss 0.545 val_acc 0.818\n",
      "train_loss 0.429 val_loss 0.561 val_acc 0.804\n",
      "train_loss 0.391 val_loss 0.441 val_acc 0.854\n",
      "train_loss 0.359 val_loss 0.467 val_acc 0.844\n",
      "train_loss 0.326 val_loss 0.395 val_acc 0.871\n",
      "train_loss 0.298 val_loss 0.454 val_acc 0.847\n",
      "train_loss 0.267 val_loss 0.396 val_acc 0.866\n",
      "train_loss 0.245 val_loss 0.363 val_acc 0.882\n",
      "train_loss 0.219 val_loss 0.318 val_acc 0.896\n",
      "train_loss 0.192 val_loss 0.318 val_acc 0.898\n",
      "train_loss 0.171 val_loss 0.287 val_acc 0.904\n",
      "train_loss 0.145 val_loss 0.300 val_acc 0.908\n",
      "train_loss 0.125 val_loss 0.258 val_acc 0.915\n",
      "train_loss 0.106 val_loss 0.254 val_acc 0.919\n",
      "train_loss 0.094 val_loss 0.254 val_acc 0.920\n",
      "train_loss 0.082 val_loss 0.251 val_acc 0.918\n",
      "train_loss 0.077 val_loss 0.248 val_acc 0.923\n",
      "train_loss 0.074 val_loss 0.246 val_acc 0.922\n"
     ]
    },
    {
     "data": {
      "text/plain": [
       "0.07368481884241104"
      ]
     },
     "execution_count": 222,
     "metadata": {},
     "output_type": "execute_result"
    }
   ],
   "source": [
    "# adding some dropout\n",
    "model = AllConvNet().cuda()\n",
    "train_triangular_policy(model, train_dl, valid_dl, max_lr=0.01, epochs = 25)"
   ]
  },
  {
   "cell_type": "code",
   "execution_count": 225,
   "metadata": {},
   "outputs": [],
   "source": [
    "test_dl = DataLoader(test_ds, batch_size=128)"
   ]
  },
  {
   "cell_type": "code",
   "execution_count": 227,
   "metadata": {},
   "outputs": [
    {
     "name": "stdout",
     "output_type": "stream",
     "text": [
      "0.2262670397758484 0.9238\n"
     ]
    }
   ],
   "source": [
    "test_loss, test_acc = val_metric(model, test_dl)\n",
    "print(test_loss, test_acc)"
   ]
  },
  {
   "cell_type": "markdown",
   "metadata": {},
   "source": [
    "## Effect of Batchnorm\n",
    "Create a new network without batchnorm and run similar experiments experiment."
   ]
  },
  {
   "cell_type": "markdown",
   "metadata": {},
   "source": [
    "## References\n",
    "* https://arxiv.org/pdf/1412.6806.pdf\n",
    "* https://discuss.pytorch.org/t/pytorch-net-from-striving-for-simplicity-the-all-convolutional-net/19297"
   ]
  },
  {
   "cell_type": "code",
   "execution_count": null,
   "metadata": {},
   "outputs": [],
   "source": []
  }
 ],
 "metadata": {
  "kernelspec": {
   "display_name": "Python 3",
   "language": "python",
   "name": "python3"
  },
  "language_info": {
   "codemirror_mode": {
    "name": "ipython",
    "version": 3
   },
   "file_extension": ".py",
   "mimetype": "text/x-python",
   "name": "python",
   "nbconvert_exporter": "python",
   "pygments_lexer": "ipython3",
   "version": "3.6.8"
  },
  "toc": {
   "nav_menu": {},
   "number_sections": true,
   "sideBar": true,
   "skip_h1_title": false,
   "toc_cell": false,
   "toc_position": {},
   "toc_section_display": "block",
   "toc_window_display": false
  }
 },
 "nbformat": 4,
 "nbformat_minor": 2
}
