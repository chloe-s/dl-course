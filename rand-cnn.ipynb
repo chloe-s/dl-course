{
 "cells": [
  {
   "cell_type": "markdown",
   "metadata": {},
   "source": [
    "# Random CNNs"
   ]
  },
  {
   "cell_type": "code",
   "execution_count": 1,
   "metadata": {},
   "outputs": [],
   "source": [
    "%reload_ext autoreload\n",
    "%autoreload 2\n",
    "%matplotlib inline\n",
    "import pandas as pd\n",
    "import cv2, os\n",
    "import numpy as np\n",
    "import torch\n",
    "from torch.utils.data import Dataset, DataLoader\n",
    "from torchvision import transforms, utils, models, datasets\n",
    "import torch.optim as optim\n",
    "import torch.nn as nn\n",
    "import torch.nn.functional as F\n",
    "import random\n",
    "from pathlib import Path\n",
    "#torch.cuda.set_device(1)"
   ]
  },
  {
   "cell_type": "markdown",
   "metadata": {},
   "source": [
    "## Looking at the CIFAR-10 data"
   ]
  },
  {
   "cell_type": "code",
   "execution_count": 2,
   "metadata": {},
   "outputs": [],
   "source": [
    "import matplotlib.pyplot as plt "
   ]
  },
  {
   "cell_type": "code",
   "execution_count": 132,
   "metadata": {},
   "outputs": [],
   "source": [
    "PATH = Path(\"/data2/datasets/part1/cifar10/\")"
   ]
  },
  {
   "cell_type": "code",
   "execution_count": 4,
   "metadata": {},
   "outputs": [],
   "source": [
    "def show_img(im, figsize=None, ax=None):\n",
    "    if not ax: fig,ax = plt.subplots(figsize=figsize)\n",
    "    ax.imshow(im)\n",
    "    ax.get_xaxis().set_visible(False)\n",
    "    ax.get_yaxis().set_visible(False)\n",
    "    return ax"
   ]
  },
  {
   "cell_type": "code",
   "execution_count": 5,
   "metadata": {},
   "outputs": [
    {
     "data": {
      "text/plain": [
       "PosixPath('/data2/datasets/part1/cifar10/train/airplane/27147_airplane.png')"
      ]
     },
     "execution_count": 5,
     "metadata": {},
     "output_type": "execute_result"
    }
   ],
   "source": [
    "IMG_PATH = PATH/'train/airplane'\n",
    "path_f = list(IMG_PATH.iterdir())[1]\n",
    "path_f"
   ]
  },
  {
   "cell_type": "code",
   "execution_count": 6,
   "metadata": {},
   "outputs": [],
   "source": [
    "img = cv2.imread(str(path_f))"
   ]
  },
  {
   "cell_type": "code",
   "execution_count": 7,
   "metadata": {},
   "outputs": [
    {
     "data": {
      "text/plain": [
       "(32, 32, 3)"
      ]
     },
     "execution_count": 7,
     "metadata": {},
     "output_type": "execute_result"
    }
   ],
   "source": [
    "img.shape"
   ]
  },
  {
   "cell_type": "code",
   "execution_count": 8,
   "metadata": {},
   "outputs": [
    {
     "data": {
      "text/plain": [
       "<matplotlib.axes._subplots.AxesSubplot at 0x7f9a52f26cc0>"
      ]
     },
     "execution_count": 8,
     "metadata": {},
     "output_type": "execute_result"
    },
    {
     "data": {
      "image/png": "[encoded data removed]",
      "text/plain": [
       "<Figure size 432x288 with 1 Axes>"
      ]
     },
     "metadata": {},
     "output_type": "display_data"
    }
   ],
   "source": [
    "show_img(img)"
   ]
  },
  {
   "cell_type": "markdown",
   "metadata": {},
   "source": [
    "## Dataset "
   ]
  },
  {
   "cell_type": "code",
   "execution_count": 9,
   "metadata": {},
   "outputs": [],
   "source": [
    "# from fast AI\n",
    "def read_dirs(path, folder):\n",
    "    labels, filenames, all_labels = [], [], []\n",
    "    full_path = os.path.join(path, folder)\n",
    "    for label in sorted(os.listdir(full_path)):\n",
    "        if label not in ('.ipynb_checkpoints','.DS_Store'):\n",
    "            all_labels.append(label)\n",
    "            for fname in os.listdir(os.path.join(full_path, label)):\n",
    "                filenames.append(os.path.join(folder, label, fname))\n",
    "                labels.append(label)\n",
    "    return filenames, labels, all_labels"
   ]
  },
  {
   "cell_type": "code",
   "execution_count": 10,
   "metadata": {},
   "outputs": [],
   "source": [
    "filenames, labels, all_labels = read_dirs(PATH, \"test\")"
   ]
  },
  {
   "cell_type": "code",
   "execution_count": 11,
   "metadata": {},
   "outputs": [],
   "source": [
    "label2idx = {label:i for i,label in enumerate(all_labels)}"
   ]
  },
  {
   "cell_type": "code",
   "execution_count": 12,
   "metadata": {},
   "outputs": [],
   "source": [
    "y = [label2idx[l] for l in labels]"
   ]
  },
  {
   "cell_type": "code",
   "execution_count": 133,
   "metadata": {},
   "outputs": [],
   "source": [
    "class CIFARDataset(Dataset):\n",
    "    def __init__(self, path, folder, transform=False):\n",
    "        self.path = path\n",
    "        filenames, labels, all_labels = read_dirs(path, folder)\n",
    "        label2idx = {label:i for i,label in enumerate(all_labels)}\n",
    "        self.y = [label2idx[l] for l in labels]\n",
    "        self.filenames = filenames\n",
    "        self.transform = transform\n",
    "    \n",
    "    def __len__(self):\n",
    "        return len(self.y)\n",
    "    \n",
    "    def __getitem__(self, idx):\n",
    "        path_f = self.path/self.filenames[idx]\n",
    "        img = cv2.imread(str(path_f)).astype(np.float32)/255\n",
    "        if self.transform:\n",
    "            img = random_flip(img)\n",
    "            img = padding(img)\n",
    "            img = random_crop(img, 32, 32)\n",
    "        return np.rollaxis(img, 2), self.y[idx]"
   ]
  },
  {
   "cell_type": "code",
   "execution_count": 134,
   "metadata": {},
   "outputs": [],
   "source": [
    "train_ds = CIFARDataset(PATH, \"train\", transform=True)\n",
    "test_ds = CIFARDataset(PATH, \"test\")"
   ]
  },
  {
   "cell_type": "code",
   "execution_count": 38,
   "metadata": {},
   "outputs": [],
   "source": [
    "#train[0]"
   ]
  },
  {
   "cell_type": "code",
   "execution_count": 39,
   "metadata": {},
   "outputs": [],
   "source": [
    "bs = 10\n",
    "bs = 128\n",
    "train_loader = DataLoader(train, batch_size=bs, shuffle=True)\n",
    "test_loader = DataLoader(test, batch_size=bs, shuffle=False)"
   ]
  },
  {
   "cell_type": "markdown",
   "metadata": {
    "heading_collapsed": true
   },
   "source": [
    "## Data Augmentation"
   ]
  },
  {
   "cell_type": "code",
   "execution_count": 16,
   "metadata": {
    "hidden": true
   },
   "outputs": [],
   "source": [
    "# version from fast.ai\n",
    "def crop(im, r, c, target_r, target_c): return im[r:r+target_r, c:c+target_c]\n",
    "\n",
    "def random_crop(x, target_r, target_c):\n",
    "    r,c,*_ = x.shape\n",
    "    rand_r = random.uniform(0, 1)\n",
    "    rand_c = random.uniform(0, 1)\n",
    "    start_r = np.floor(rand_r*(r - target_r)).astype(int)\n",
    "    start_c = np.floor(rand_c*(c - target_c)).astype(int)\n",
    "    return crop(x, start_r, start_c, target_r, target_c)"
   ]
  },
  {
   "cell_type": "code",
   "execution_count": 17,
   "metadata": {
    "hidden": true
   },
   "outputs": [],
   "source": [
    "def padding(x, pad=4):\n",
    "    return cv2.copyMakeBorder(x, pad, pad, pad, pad, cv2.BORDER_REFLECT)"
   ]
  },
  {
   "cell_type": "code",
   "execution_count": 18,
   "metadata": {
    "hidden": true
   },
   "outputs": [],
   "source": [
    "def random_flip(x, p=0.5):\n",
    "    return np.fliplr(x).copy() if random.random() < p else x"
   ]
  },
  {
   "cell_type": "code",
   "execution_count": 19,
   "metadata": {
    "hidden": true
   },
   "outputs": [],
   "source": [
    "path_f=\"/data2/datasets/part1/cifar10/train/airplane/27147_airplane.png\"\n",
    "img = cv2.imread(path_f).astype(np.float32)/255"
   ]
  },
  {
   "cell_type": "code",
   "execution_count": 20,
   "metadata": {
    "hidden": true
   },
   "outputs": [
    {
     "data": {
      "text/plain": [
       "(32, 32, 3)"
      ]
     },
     "execution_count": 20,
     "metadata": {},
     "output_type": "execute_result"
    }
   ],
   "source": [
    "img.shape"
   ]
  },
  {
   "cell_type": "code",
   "execution_count": 21,
   "metadata": {
    "hidden": true
   },
   "outputs": [
    {
     "data": {
      "text/plain": [
       "<matplotlib.image.AxesImage at 0x7f9a4f0537b8>"
      ]
     },
     "execution_count": 21,
     "metadata": {},
     "output_type": "execute_result"
    },
    {
     "data": {
      "image/png": "[encoded data removed]",
      "text/plain": [
       "<Figure size 432x288 with 1 Axes>"
      ]
     },
     "metadata": {},
     "output_type": "display_data"
    }
   ],
   "source": [
    "from matplotlib import pyplot as plt\n",
    "plt.imshow(img)"
   ]
  },
  {
   "cell_type": "code",
   "execution_count": 22,
   "metadata": {
    "hidden": true
   },
   "outputs": [
    {
     "data": {
      "text/plain": [
       "(32, 32, 3)"
      ]
     },
     "execution_count": 22,
     "metadata": {},
     "output_type": "execute_result"
    }
   ],
   "source": [
    "img2 = random_flip(img)\n",
    "img2 = padding(img2)\n",
    "img2 = random_crop(img2, 32, 32)\n",
    "img2.shape"
   ]
  },
  {
   "cell_type": "code",
   "execution_count": 23,
   "metadata": {
    "hidden": true
   },
   "outputs": [
    {
     "data": {
      "text/plain": [
       "<matplotlib.image.AxesImage at 0x7f9a4c230be0>"
      ]
     },
     "execution_count": 23,
     "metadata": {},
     "output_type": "execute_result"
    },
    {
     "data": {
      "image/png": "[encoded data removed]",
      "text/plain": [
       "<Figure size 432x288 with 1 Axes>"
      ]
     },
     "metadata": {},
     "output_type": "display_data"
    }
   ],
   "source": [
    "plt.imshow(img2)"
   ]
  },
  {
   "cell_type": "markdown",
   "metadata": {},
   "source": [
    "## Model"
   ]
  },
  {
   "cell_type": "code",
   "execution_count": 52,
   "metadata": {},
   "outputs": [],
   "source": [
    "def conv_layer(ni, nf, ks=3, stride=1):\n",
    "    return nn.Sequential(\n",
    "        nn.Conv2d(ni, nf, kernel_size=ks, bias=False, stride=stride, padding=ks//2),\n",
    "        nn.BatchNorm2d(nf, momentum=0.01),\n",
    "        nn.LeakyReLU(negative_slope=0.1))"
   ]
  },
  {
   "cell_type": "code",
   "execution_count": 61,
   "metadata": {},
   "outputs": [],
   "source": [
    "class ResLayer(nn.Module):\n",
    "    def __init__(self, ni):\n",
    "        super().__init__()\n",
    "        self.conv1=conv_layer(ni, ni//2, ks=1)\n",
    "        self.conv2=conv_layer(ni//2, ni, ks=3)\n",
    "        \n",
    "    def forward(self, x): return x + self.conv2(self.conv1(x))"
   ]
  },
  {
   "cell_type": "code",
   "execution_count": 62,
   "metadata": {},
   "outputs": [],
   "source": [
    "# from fast.ai\n",
    "class Flatten(nn.Module):\n",
    "    def __init__(self): super().__init__()\n",
    "    def forward(self, x): return x.view(x.size(0), -1)"
   ]
  },
  {
   "cell_type": "code",
   "execution_count": 108,
   "metadata": {},
   "outputs": [],
   "source": [
    "class Darknet(nn.Module):\n",
    "    def make_group_layer(self, ch_in, num_blocks, stride=1):\n",
    "        return [conv_layer(ch_in, ch_in*2,stride=stride)\n",
    "               ] + [(ResLayer(ch_in*2)) for i in range(num_blocks)]\n",
    "\n",
    "    def __init__(self, num_blocks, num_classes, nf=32, random=False, K=4):\n",
    "        super().__init__()\n",
    "        self.random = random\n",
    "        top_layers = [conv_layer(3, nf, ks=3, stride=1)]\n",
    "        bottom_layers = []\n",
    "        for i,nb in enumerate(num_blocks[:K]):\n",
    "            top_layers += self.make_group_layer(nf, nb, stride=2-(i==1))\n",
    "            nf *= 2\n",
    "        for i,nb in enumerate(num_blocks[K:]):\n",
    "            bottom_layers += self.make_group_layer(nf, nb, stride=2)\n",
    "            nf *= 2\n",
    "        bottom_layers += [nn.AdaptiveAvgPool2d(1), Flatten(), nn.Linear(nf, num_classes)]\n",
    "        self.top_model = nn.Sequential(*top_layers)\n",
    "        self.bottom_model = nn.Sequential(*bottom_layers)\n",
    "    \n",
    "    def forward(self, x):\n",
    "        if self.random:\n",
    "            with torch.no_grad():\n",
    "                x = self.top_model(x)\n",
    "        else:\n",
    "            x = self.top_model(x)\n",
    "        return self.bottom_model(x)"
   ]
  },
  {
   "cell_type": "code",
   "execution_count": 97,
   "metadata": {},
   "outputs": [],
   "source": [
    "model1 = Darknet([1, 2, 4, 6, 3], num_classes=10, nf=32).cuda()"
   ]
  },
  {
   "cell_type": "code",
   "execution_count": 98,
   "metadata": {},
   "outputs": [],
   "source": [
    "model2 = Darknet([1, 2, 4, 6, 3], num_classes=10, nf=32, random=True).cuda()"
   ]
  },
  {
   "cell_type": "markdown",
   "metadata": {},
   "source": [
    "## Testing model"
   ]
  },
  {
   "cell_type": "code",
   "execution_count": 89,
   "metadata": {},
   "outputs": [
    {
     "data": {
      "text/plain": [
       "torch.Size([128, 10])"
      ]
     },
     "execution_count": 89,
     "metadata": {},
     "output_type": "execute_result"
    }
   ],
   "source": [
    "x, y = next(iter(train_loader))\n",
    "x = x.cuda()\n",
    "model(x).shape"
   ]
  },
  {
   "cell_type": "markdown",
   "metadata": {},
   "source": [
    "## Train"
   ]
  },
  {
   "cell_type": "code",
   "execution_count": 99,
   "metadata": {},
   "outputs": [],
   "source": [
    "def train(train_loader, model, optimizer):\n",
    "    model.train()\n",
    "    sum_loss = 0.0\n",
    "    total = 0\n",
    "    for i, (x, labels) in enumerate(train_loader):  \n",
    "        batch = x.shape[0]\n",
    "        x = x.cuda() \n",
    "        labels = labels.cuda()\n",
    "        optimizer.zero_grad()\n",
    "        outputs = model(x).float()\n",
    "        loss = F.cross_entropy(outputs, labels) \n",
    "        loss.backward()\n",
    "        optimizer.step()\n",
    "        \n",
    "        total += batch\n",
    "        sum_loss += batch * loss.item()\n",
    "    train_loss = sum_loss/total\n",
    "    return train_loss\n",
    "\n",
    "def model_eval(model, test_loader):\n",
    "    model.eval()\n",
    "    sum_loss = 0.0\n",
    "    total_correct = 0.0\n",
    "    total = 0\n",
    "    for x, labels in test_loader:\n",
    "        x = x.cuda()\n",
    "        labels = labels.cuda()\n",
    "        outputs = model(x)\n",
    "        loss = F.cross_entropy(outputs, labels) \n",
    "        sum_loss += labels.size(0)*loss.item()\n",
    "        corr = correct(outputs, labels)\n",
    "        total_correct += corr\n",
    "        total += labels.size(0)\n",
    "    return sum_loss/total, total_correct/total\n",
    "\n",
    "def train_model_epochs_class(train_loader, test_loader, num_epochs, model, optimizer):\n",
    "    for epoch in range(num_epochs):\n",
    "        train_loss = train(train_loader, model, optimizer)\n",
    "        print('Epoch [%d/%d], Loss: %.4f' %(epoch+1, num_epochs, train_loss))\n",
    "        val_loss, acc = model_eval(model, test_loader)\n",
    "        print('Epoch [%d/%d], Valid loss: %.4f, Accuracy: %.4f' %(epoch+1, num_epochs, val_loss, acc))"
   ]
  },
  {
   "cell_type": "code",
   "execution_count": 187,
   "metadata": {},
   "outputs": [],
   "source": [
    "def correct(preds, targs):\n",
    "    preds = torch.max(preds, dim=1)[1]\n",
    "    return (preds==targs).float().sum()"
   ]
  },
  {
   "cell_type": "code",
   "execution_count": 101,
   "metadata": {},
   "outputs": [],
   "source": [
    "lr = 0.05\n",
    "optimizer1 = optim.Adam(model1.parameters(), lr=lr)\n",
    "optimizer2 = optim.Adam(model2.bottom_model.parameters(), lr=lr)"
   ]
  },
  {
   "cell_type": "markdown",
   "metadata": {},
   "source": [
    "## Triangular learning rates"
   ]
  },
  {
   "cell_type": "code",
   "execution_count": 140,
   "metadata": {},
   "outputs": [],
   "source": [
    "PATH=Path(\"/data2/yinterian/rand_exp\")"
   ]
  },
  {
   "cell_type": "code",
   "execution_count": 158,
   "metadata": {},
   "outputs": [],
   "source": [
    "def get_optimizer(model, lr = 0.01, wd = 0.0):\n",
    "    optim = torch.optim.Adam(model.parameters(), lr=lr, weight_decay=wd)\n",
    "    return optim"
   ]
  },
  {
   "cell_type": "code",
   "execution_count": 160,
   "metadata": {},
   "outputs": [],
   "source": [
    "def save_model(m, p): torch.save(m.state_dict(), p)\n",
    "    \n",
    "def load_model(m, p): m.load_state_dict(torch.load(p))\n",
    "\n",
    "def LR_range_finder(model, train_dl, lr_low=1e-5, lr_high=1, epochs=2):\n",
    "    losses = []\n",
    "    p = PATH/\"mode_tmp.pth\"\n",
    "    save_model(model, str(p))\n",
    "    iterations = epochs * len(train_dl)\n",
    "    delta = (lr_high - lr_low)/iterations\n",
    "    lrs = [lr_low + i*delta for i in range(iterations)]\n",
    "    model.train()\n",
    "    ind = 0\n",
    "    for i in range(epochs):\n",
    "        for x,y in train_dl:\n",
    "            optim = get_optimizer(model, lr=lrs[ind])\n",
    "            x = x.cuda().float()\n",
    "            y = y.cuda().long()\n",
    "            out = model(x)\n",
    "            loss = F.cross_entropy(out, y)\n",
    "            optim.zero_grad()\n",
    "            loss.backward()\n",
    "            optim.step()\n",
    "            losses.append(loss.item())\n",
    "            ind +=1     \n",
    "    load_model(model, str(p))\n",
    "    return lrs, losses"
   ]
  },
  {
   "cell_type": "code",
   "execution_count": 189,
   "metadata": {},
   "outputs": [],
   "source": [
    "model1 = Darknet([1, 2, 4, 6, 3], num_classes=10, nf=32).cuda()"
   ]
  },
  {
   "cell_type": "code",
   "execution_count": 177,
   "metadata": {},
   "outputs": [],
   "source": [
    "bs = 128\n",
    "train_dl = DataLoader(train_ds, batch_size=bs, shuffle=True)\n",
    "valid_dl = DataLoader(test_ds, batch_size=bs, shuffle=False)"
   ]
  },
  {
   "cell_type": "code",
   "execution_count": 168,
   "metadata": {},
   "outputs": [],
   "source": [
    "lrs, losses = LR_range_finder(model1, train_dl, lr_low=1e-7, lr_high=0.1)"
   ]
  },
  {
   "cell_type": "code",
   "execution_count": 170,
   "metadata": {},
   "outputs": [
    {
     "data": {
      "image/png": "[encoded data removed]",
      "text/plain": [
       "<Figure size 432x288 with 1 Axes>"
      ]
     },
     "metadata": {},
     "output_type": "display_data"
    }
   ],
   "source": [
    "plt.plot(lrs[:100], losses[:100])\n",
    "plt.show()"
   ]
  },
  {
   "cell_type": "code",
   "execution_count": 172,
   "metadata": {},
   "outputs": [],
   "source": [
    "def get_triangular_lr2(lr_low, lr_high, iterations):\n",
    "    iter1 = int(0.35*iterations)\n",
    "    iter2 = int(0.85*iter1)\n",
    "    iter3 = iterations - iter1 - iter2\n",
    "    delta1 = (lr_high - lr_low)/iter1\n",
    "    delta2 = (lr_high - lr_low)/(iter1 -1)\n",
    "    lrs1 = [lr_low + i*delta1 for i in range(iter1)]\n",
    "    lrs2 = [lr_high - i*(delta1) for i in range(0, iter2)]\n",
    "    delta2 = (lrs2[-1] - lr_low)/(iter3)\n",
    "    lrs3 = [lrs2[-1] - i*(delta2) for i in range(1, iter3+1)]\n",
    "    return lrs1+lrs2+lrs3"
   ]
  },
  {
   "cell_type": "code",
   "execution_count": 193,
   "metadata": {},
   "outputs": [],
   "source": [
    "def train_triangular_policy(model, train_dl, valid_dl, lr_low=1e-5, lr_high=0.01, epochs=4):\n",
    "    idx = 0\n",
    "    iterations = epochs * len(train_dl)\n",
    "    lrs = get_triangular_lr2(lr_low, lr_high, iterations)\n",
    "    for i in range(epochs):\n",
    "        model.train()\n",
    "        total = 0\n",
    "        sum_loss = 0\n",
    "        for i, (x, y) in enumerate(train_dl):\n",
    "            optim = get_optimizer(model, lr = lrs[idx], wd =0)\n",
    "            batch = y.shape[0]\n",
    "            x = x.cuda().float()\n",
    "            y = y.cuda().long()\n",
    "            out = model(x)\n",
    "            loss = F.cross_entropy(out, y)\n",
    "            optim.zero_grad()\n",
    "            loss.backward()\n",
    "            optim.step()\n",
    "            idx += 1\n",
    "            total += batch\n",
    "            sum_loss += batch*(loss.item())\n",
    "        print(\"train loss\", sum_loss/total)\n",
    "        val_metrics(model, valid_dl)\n",
    "    return sum_loss/total"
   ]
  },
  {
   "cell_type": "code",
   "execution_count": 186,
   "metadata": {},
   "outputs": [],
   "source": [
    "def val_metrics(model, valid_dl):\n",
    "    model.eval()\n",
    "    total = 0\n",
    "    sum_loss = 0\n",
    "    total_correct = 0 \n",
    "    for i, (x, y) in enumerate(valid_dl):\n",
    "        batch = y.shape[0]\n",
    "        x = x.cuda().float()\n",
    "        y = y.cuda().long()\n",
    "        out = model(x)\n",
    "        total_correct += correct(out, y)\n",
    "        loss = F.cross_entropy(out, y)\n",
    "        sum_loss += batch*(loss.item())\n",
    "        total += batch\n",
    "    print(\"val loss and accuracy\", sum_loss/total, total_correct/total)"
   ]
  },
  {
   "cell_type": "code",
   "execution_count": 200,
   "metadata": {},
   "outputs": [],
   "source": [
    "from datetime import datetime\n",
    "\n",
    "def training_loop(model, train_dl, valid_dl, steps=1, lr_low=1e-5, lr_high=0.01, epochs=4):\n",
    "    for i in range(steps):\n",
    "        start = datetime.now() \n",
    "        loss = train_triangular_policy(model, train_dl, valid_dl, lr_low, lr_high, epochs)\n",
    "        end = datetime.now()\n",
    "        t = 'Time elapsed {}'.format(end - start)\n",
    "        print(\"----End of step\", t)"
   ]
  },
  {
   "cell_type": "code",
   "execution_count": 203,
   "metadata": {},
   "outputs": [],
   "source": [
    "def get_optimizer(model, lr = 0.01, wd = 0.0):\n",
    "    optim = torch.optim.Adam(model.parameters(), lr=lr, weight_decay=wd)\n",
    "    return optim"
   ]
  },
  {
   "cell_type": "code",
   "execution_count": 204,
   "metadata": {},
   "outputs": [],
   "source": [
    "model1 = Darknet([1, 2, 4, 6, 3], num_classes=10, nf=32).cuda()"
   ]
  },
  {
   "cell_type": "code",
   "execution_count": 205,
   "metadata": {},
   "outputs": [
    {
     "name": "stdout",
     "output_type": "stream",
     "text": [
      "train loss 1.778286909713745\n",
      "val loss and accuracy 13.077882623291016 tensor(0.2942, device='cuda:0')\n",
      "train loss 1.3490417552947997\n",
      "val loss and accuracy 351.91596081237793 tensor(0.1070, device='cuda:0')\n",
      "train loss 1.0460927820587158\n",
      "val loss and accuracy 15.390155635070801 tensor(0.4822, device='cuda:0')\n",
      "train loss 0.909393859500885\n",
      "val loss and accuracy 17.467391454505922 tensor(0.3609, device='cuda:0')\n",
      "train loss 0.8206612530708313\n",
      "val loss and accuracy 1.7126362140655518 tensor(0.6232, device='cuda:0')\n",
      "train loss 0.7860180308914184\n",
      "val loss and accuracy 13.004736430931091 tensor(0.4828, device='cuda:0')\n",
      "train loss 0.7489197580337524\n",
      "val loss and accuracy 4.782161122894287 tensor(0.5174, device='cuda:0')\n",
      "train loss 0.6853230744552612\n",
      "val loss and accuracy 2.7801083164453506 tensor(0.7113, device='cuda:0')\n",
      "train loss 0.5762360938262939\n",
      "val loss and accuracy 0.8356349981307983 tensor(0.7482, device='cuda:0')\n",
      "train loss 0.4904272579193115\n",
      "val loss and accuracy 1.0419749334573745 tensor(0.7212, device='cuda:0')\n",
      "train loss 0.4356493602848053\n",
      "val loss and accuracy 0.5019835431098938 tensor(0.8427, device='cuda:0')\n",
      "train loss 0.37091151205062867\n",
      "val loss and accuracy 0.4510729496002197 tensor(0.8564, device='cuda:0')\n",
      "train loss 0.32138698424339296\n",
      "val loss and accuracy 0.4014432912349701 tensor(0.8686, device='cuda:0')\n",
      "train loss 0.2873558210659027\n",
      "val loss and accuracy 0.3840210214614868 tensor(0.8836, device='cuda:0')\n",
      "train loss 0.2717121140766144\n",
      "val loss and accuracy 0.3579343351364136 tensor(0.8866, device='cuda:0')\n",
      "train loss 0.2575692032623291\n",
      "val loss and accuracy 0.3552595185279846 tensor(0.8858, device='cuda:0')\n",
      "train loss 0.24869226176261902\n",
      "val loss and accuracy 0.3584648123264313 tensor(0.8911, device='cuda:0')\n",
      "train loss 0.22970345505714415\n",
      "val loss and accuracy 0.34114526224136354 tensor(0.8955, device='cuda:0')\n",
      "train loss 0.22565808804512025\n",
      "val loss and accuracy 0.3329554615974426 tensor(0.8979, device='cuda:0')\n",
      "train loss 0.21811639535427094\n",
      "val loss and accuracy 0.3277973515033722 tensor(0.8988, device='cuda:0')\n",
      "----End of step Time elapsed 0:27:34.721817\n"
     ]
    }
   ],
   "source": [
    "training_loop(model1, train_dl, valid_dl, epochs=20)"
   ]
  },
  {
   "cell_type": "markdown",
   "metadata": {},
   "source": [
    "### training model2"
   ]
  },
  {
   "cell_type": "code",
   "execution_count": 206,
   "metadata": {},
   "outputs": [],
   "source": [
    "def get_optimizer(model, lr = 0.01, wd = 0.0):\n",
    "    optim = torch.optim.Adam(model.bottom_model.parameters(), lr=lr, weight_decay=wd)\n",
    "    return optim"
   ]
  },
  {
   "cell_type": "code",
   "execution_count": 207,
   "metadata": {},
   "outputs": [],
   "source": [
    "model2 = Darknet([1, 2, 4, 6, 3], num_classes=10, nf=32, random=True).cuda()"
   ]
  },
  {
   "cell_type": "code",
   "execution_count": 208,
   "metadata": {},
   "outputs": [
    {
     "name": "stdout",
     "output_type": "stream",
     "text": [
      "train loss 2.026103617095947\n",
      "val loss and accuracy 5.537534884262085 tensor(0.1340, device='cuda:0')\n",
      "train loss 1.9590899055480957\n",
      "val loss and accuracy 2.2121348545074464 tensor(0.2841, device='cuda:0')\n",
      "train loss 1.8120381982040406\n",
      "val loss and accuracy 2.4133684783935547 tensor(0.2316, device='cuda:0')\n",
      "train loss 1.7702688903808594\n",
      "val loss and accuracy 2.0754333267211913 tensor(0.3290, device='cuda:0')\n",
      "train loss 1.7454834159088135\n",
      "val loss and accuracy 1.8517014503479003 tensor(0.3524, device='cuda:0')\n",
      "train loss 1.7366875255584717\n",
      "val loss and accuracy 2.070096922302246 tensor(0.2945, device='cuda:0')\n",
      "train loss 1.7399598598861694\n",
      "val loss and accuracy 2.3180206420898437 tensor(0.3112, device='cuda:0')\n",
      "train loss 1.720271863746643\n",
      "val loss and accuracy 1.8631343963623046 tensor(0.3565, device='cuda:0')\n",
      "train loss 1.680776440925598\n",
      "val loss and accuracy 1.6414521934509276 tensor(0.4117, device='cuda:0')\n",
      "train loss 1.6512116528701781\n",
      "val loss and accuracy 1.6802309898376464 tensor(0.4049, device='cuda:0')\n",
      "train loss 1.6184718883895874\n",
      "val loss and accuracy 1.5917104112625122 tensor(0.4314, device='cuda:0')\n",
      "train loss 1.5862657912063598\n",
      "val loss and accuracy 1.5863567422866822 tensor(0.4393, device='cuda:0')\n",
      "train loss 1.559050891418457\n",
      "val loss and accuracy 1.4867027046203614 tensor(0.4650, device='cuda:0')\n",
      "train loss 1.5411944525909425\n",
      "val loss and accuracy 1.5022114334106444 tensor(0.4692, device='cuda:0')\n",
      "train loss 1.5325116887664796\n",
      "val loss and accuracy 1.4787995933532714 tensor(0.4731, device='cuda:0')\n",
      "train loss 1.5278003218841554\n",
      "val loss and accuracy 1.4694268852233887 tensor(0.4762, device='cuda:0')\n",
      "train loss 1.5207161977386474\n",
      "val loss and accuracy 1.47028305644989 tensor(0.4790, device='cuda:0')\n",
      "train loss 1.5178450066757203\n",
      "val loss and accuracy 1.459471519088745 tensor(0.4804, device='cuda:0')\n",
      "train loss 1.501001900062561\n",
      "val loss and accuracy 1.4499809646606445 tensor(0.4852, device='cuda:0')\n",
      "train loss 1.509109351539612\n",
      "val loss and accuracy 1.4504180625915528 tensor(0.4848, device='cuda:0')\n",
      "----End of step Time elapsed 0:19:01.009581\n"
     ]
    }
   ],
   "source": [
    "training_loop(model2, train_dl, valid_dl, epochs=20)"
   ]
  },
  {
   "cell_type": "code",
   "execution_count": null,
   "metadata": {},
   "outputs": [],
   "source": []
  }
 ],
 "metadata": {
  "kernelspec": {
   "display_name": "Python 3",
   "language": "python",
   "name": "python3"
  },
  "language_info": {
   "codemirror_mode": {
    "name": "ipython",
    "version": 3
   },
   "file_extension": ".py",
   "mimetype": "text/x-python",
   "name": "python",
   "nbconvert_exporter": "python",
   "pygments_lexer": "ipython3",
   "version": "3.6.5"
  },
  "toc": {
   "nav_menu": {},
   "number_sections": true,
   "sideBar": true,
   "skip_h1_title": false,
   "toc_cell": false,
   "toc_position": {},
   "toc_section_display": "block",
   "toc_window_display": false
  }
 },
 "nbformat": 4,
 "nbformat_minor": 2
}
